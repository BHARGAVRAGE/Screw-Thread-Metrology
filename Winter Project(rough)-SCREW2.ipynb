{
 "cells": [
  {
   "cell_type": "code",
   "execution_count": 235,
   "metadata": {},
   "outputs": [],
   "source": [
    "import cv2\n",
    "import numpy as np\n",
    "import math as m\n",
    "import matplotlib.pyplot as plt\n",
    "%matplotlib inline"
   ]
  },
  {
   "cell_type": "code",
   "execution_count": 236,
   "metadata": {},
   "outputs": [],
   "source": [
    "def nothing(x):\n",
    "    print(x)"
   ]
  },
  {
   "cell_type": "code",
   "execution_count": 237,
   "metadata": {},
   "outputs": [
    {
     "name": "stdout",
     "output_type": "stream",
     "text": [
      "1\n",
      "2\n",
      "3\n",
      "4\n",
      "5\n",
      "6\n",
      "7\n",
      "8\n",
      "9\n",
      "10\n",
      "11\n",
      "12\n",
      "13\n",
      "14\n",
      "15\n",
      "16\n",
      "17\n",
      "18\n",
      "19\n",
      "20\n",
      "21\n",
      "22\n",
      "23\n",
      "24\n",
      "25\n",
      "26\n",
      "27\n",
      "28\n",
      "29\n",
      "30\n",
      "31\n",
      "32\n",
      "33\n",
      "34\n",
      "35\n",
      "36\n",
      "37\n",
      "38\n",
      "39\n",
      "40\n",
      "41\n",
      "42\n",
      "43\n",
      "44\n",
      "45\n",
      "46\n",
      "47\n",
      "48\n",
      "49\n",
      "50\n",
      "51\n",
      "52\n",
      "53\n",
      "54\n",
      "55\n",
      "56\n",
      "57\n",
      "58\n",
      "59\n",
      "60\n",
      "61\n",
      "62\n",
      "63\n",
      "64\n",
      "65\n",
      "66\n",
      "67\n",
      "68\n",
      "69\n",
      "70\n",
      "71\n",
      "72\n",
      "73\n",
      "74\n",
      "75\n",
      "76\n",
      "77\n",
      "78\n",
      "79\n",
      "80\n",
      "81\n",
      "82\n",
      "83\n",
      "84\n",
      "85\n",
      "86\n",
      "87\n",
      "88\n",
      "89\n",
      "90\n",
      "91\n",
      "92\n",
      "93\n",
      "94\n",
      "95\n",
      "96\n",
      "97\n",
      "98\n",
      "99\n",
      "100\n",
      "101\n",
      "102\n",
      "103\n",
      "104\n",
      "105\n",
      "106\n",
      "107\n",
      "108\n",
      "109\n",
      "110\n",
      "111\n",
      "112\n",
      "113\n",
      "114\n",
      "115\n",
      "116\n",
      "117\n",
      "118\n",
      "119\n",
      "120\n",
      "121\n",
      "122\n",
      "123\n",
      "124\n",
      "125\n",
      "126\n",
      "127\n",
      "128\n",
      "129\n",
      "130\n",
      "131\n",
      "132\n",
      "133\n",
      "134\n",
      "135\n",
      "136\n",
      "137\n",
      "138\n",
      "139\n",
      "140\n",
      "141\n",
      "142\n",
      "143\n",
      "144\n",
      "145\n",
      "146\n",
      "147\n",
      "148\n",
      "149\n",
      "150\n",
      "151\n",
      "152\n",
      "153\n",
      "154\n",
      "155\n",
      "156\n",
      "157\n",
      "158\n",
      "159\n",
      "160\n",
      "161\n",
      "164\n",
      "168\n",
      "171\n",
      "176\n",
      "182\n",
      "187\n",
      "192\n",
      "196\n",
      "199\n",
      "201\n",
      "204\n",
      "205\n",
      "206\n",
      "207\n",
      "208\n",
      "209\n",
      "210\n",
      "211\n",
      "213\n",
      "215\n",
      "218\n",
      "221\n",
      "224\n",
      "228\n",
      "231\n",
      "235\n",
      "238\n",
      "241\n",
      "243\n",
      "245\n",
      "246\n",
      "248\n",
      "249\n",
      "250\n",
      "251\n",
      "252\n",
      "253\n",
      "254\n",
      "255\n",
      "1\n",
      "2\n",
      "3\n",
      "4\n",
      "5\n",
      "6\n",
      "7\n",
      "9\n",
      "10\n",
      "12\n",
      "14\n",
      "15\n",
      "16\n",
      "18\n",
      "19\n",
      "20\n",
      "21\n",
      "22\n",
      "23\n",
      "24\n",
      "25\n",
      "26\n",
      "27\n",
      "28\n",
      "29\n",
      "31\n",
      "34\n",
      "37\n",
      "40\n",
      "44\n",
      "47\n",
      "51\n",
      "54\n",
      "58\n",
      "61\n",
      "63\n",
      "66\n",
      "68\n",
      "70\n",
      "71\n",
      "73\n",
      "74\n",
      "75\n",
      "76\n",
      "77\n",
      "78\n",
      "79\n",
      "80\n",
      "81\n",
      "82\n",
      "84\n",
      "87\n",
      "89\n",
      "93\n",
      "98\n",
      "101\n",
      "106\n",
      "111\n",
      "114\n",
      "118\n",
      "121\n",
      "125\n",
      "127\n",
      "130\n",
      "131\n",
      "132\n",
      "134\n",
      "135\n",
      "136\n",
      "137\n",
      "138\n",
      "139\n",
      "140\n",
      "141\n",
      "142\n",
      "143\n",
      "145\n",
      "146\n",
      "147\n",
      "149\n",
      "151\n",
      "152\n",
      "153\n",
      "154\n",
      "155\n",
      "156\n",
      "157\n",
      "158\n",
      "157\n",
      "155\n",
      "152\n",
      "146\n",
      "139\n",
      "129\n",
      "118\n",
      "108\n",
      "99\n",
      "92\n",
      "85\n",
      "81\n",
      "77\n",
      "74\n",
      "72\n",
      "71\n",
      "69\n",
      "68\n",
      "67\n",
      "66\n",
      "65\n",
      "63\n",
      "60\n",
      "56\n",
      "51\n",
      "46\n",
      "38\n",
      "32\n",
      "26\n",
      "21\n",
      "18\n",
      "14\n",
      "11\n",
      "8\n",
      "6\n",
      "4\n",
      "3\n",
      "1\n",
      "0\n",
      "1\n",
      "2\n",
      "3\n",
      "4\n",
      "5\n",
      "6\n",
      "7\n",
      "8\n",
      "9\n",
      "10\n",
      "11\n",
      "12\n",
      "13\n",
      "14\n",
      "15\n",
      "14\n",
      "11\n",
      "7\n",
      "0\n",
      "1\n",
      "2\n",
      "3\n",
      "4\n",
      "5\n",
      "6\n",
      "7\n",
      "8\n",
      "9\n",
      "10\n",
      "11\n",
      "12\n",
      "13\n",
      "14\n",
      "15\n",
      "16\n",
      "17\n",
      "18\n",
      "17\n",
      "16\n",
      "14\n",
      "12\n",
      "9\n",
      "5\n",
      "1\n",
      "0\n",
      "1\n",
      "3\n",
      "4\n",
      "6\n",
      "8\n",
      "9\n",
      "10\n",
      "11\n",
      "12\n",
      "13\n",
      "14\n",
      "15\n",
      "16\n",
      "17\n",
      "18\n",
      "19\n",
      "20\n",
      "21\n",
      "20\n",
      "19\n",
      "16\n",
      "15\n",
      "12\n",
      "9\n",
      "6\n",
      "3\n",
      "0\n",
      "1\n",
      "2\n",
      "3\n",
      "4\n",
      "5\n",
      "6\n",
      "7\n",
      "8\n",
      "9\n",
      "10\n",
      "11\n",
      "12\n",
      "13\n",
      "14\n",
      "15\n",
      "14\n",
      "13\n",
      "12\n",
      "11\n",
      "10\n",
      "8\n",
      "6\n",
      "5\n",
      "2\n",
      "1\n",
      "0\n"
     ]
    }
   ],
   "source": [
    "src_img = cv2.imread('screw8.jpg',1)\n",
    "cv2.imshow('read',src_img)\n",
    "cv2.waitKey(0)\n",
    "gauss = cv2.GaussianBlur(src_img,(5,5),6)\n",
    "gray = cv2.cvtColor(gauss,cv2.COLOR_BGR2GRAY)\n",
    "cv2.imshow('img',gray)\n",
    "cv2.waitKey(0)\n",
    "cv2.namedWindow('Edge Detect')\n",
    "cv2.createTrackbar('Thresh1','Edge Detect',0,255,nothing)\n",
    "cv2.createTrackbar('Thresh2','Edge Detect',0,255,nothing)\n",
    "t1 = t2 = 0\n",
    "while(1):\n",
    "    canny = cv2.Canny(gray,t1,t2)\n",
    "    cv2.imshow('Edge Detect',canny)\n",
    "    k = cv2.waitKey(1) & 0xFF\n",
    "    if k == 27:#Esc Key for terminating\n",
    "        break\n",
    "    t1 = cv2.getTrackbarPos('Thresh1','Edge Detect')\n",
    "    t2 = cv2.getTrackbarPos('Thresh2','Edge Detect')\n",
    "cv2.destroyAllWindows()   "
   ]
  },
  {
   "cell_type": "code",
   "execution_count": 238,
   "metadata": {},
   "outputs": [
    {
     "data": {
      "text/plain": [
       "-1"
      ]
     },
     "execution_count": 238,
     "metadata": {},
     "output_type": "execute_result"
    }
   ],
   "source": [
    "cv2.imshow('canny',canny)\n",
    "cv2.waitKey(0)"
   ]
  },
  {
   "cell_type": "code",
   "execution_count": 240,
   "metadata": {},
   "outputs": [
    {
     "name": "stdout",
     "output_type": "stream",
     "text": [
      "(470, 240)\n"
     ]
    }
   ],
   "source": [
    "img2 = canny.copy()\n",
    "img2 = img2[:,160:400]\n",
    "#img2 = cv2.cvtColor(img2,cv2.COLOR_BGR2GRAY)\n",
    "cv2.imshow('cropped',img2)\n",
    "cv2.waitKey(0)\n",
    "print(img2.shape)"
   ]
  },
  {
   "cell_type": "code",
   "execution_count": 226,
   "metadata": {},
   "outputs": [
    {
     "data": {
      "text/plain": [
       "-1"
      ]
     },
     "execution_count": 226,
     "metadata": {},
     "output_type": "execute_result"
    }
   ],
   "source": [
    "img3 = img2.copy()\n",
    "a = np.zeros((img3.shape[0],img3.shape[1]))\n",
    "for c in range(img3.shape[1]):\n",
    "    for r in range(img3.shape[0]):\n",
    "        if img3[r,c]==255:\n",
    "            a[r,c]=255\n",
    "            break\n",
    "cv2.imshow('Upper Pixels', a)\n",
    "cv2.waitKey(0)\n",
    "for c in range(img3.shape[1]-1,0,-1):\n",
    "    for r in range(img3.shape[0]-1,0,-1):\n",
    "        if img3[r,c]==255:\n",
    "            a[r,c]=255\n",
    "            break\n",
    "cv2.imshow('Lower pixels', a)\n",
    "cv2.waitKey(0)"
   ]
  },
  {
   "cell_type": "code",
   "execution_count": 227,
   "metadata": {},
   "outputs": [
    {
     "name": "stdout",
     "output_type": "stream",
     "text": [
      "174\n",
      "391\n",
      "282\n"
     ]
    }
   ],
   "source": [
    "img4 = a.copy()\n",
    "for r in range(img4.shape[0]):\n",
    "    if 255 in img4[r,:]:\n",
    "        min2 = r\n",
    "        break\n",
    "for r in range(img4.shape[0]-1,-1,-1):\n",
    "    if 255 in img4[r,:]:\n",
    "        max2 = r\n",
    "        break\n",
    "print(min2)\n",
    "print(max2)\n",
    "mid = int((min2+max2)/2)\n",
    "print(mid)"
   ]
  },
  {
   "cell_type": "code",
   "execution_count": 228,
   "metadata": {},
   "outputs": [
    {
     "data": {
      "text/plain": [
       "-1"
      ]
     },
     "execution_count": 228,
     "metadata": {},
     "output_type": "execute_result"
    }
   ],
   "source": [
    "img4[int(mid),:] = 255\n",
    "cv2.imshow('midline',img4)\n",
    "cv2.waitKey(0)"
   ]
  },
  {
   "cell_type": "code",
   "execution_count": 229,
   "metadata": {},
   "outputs": [
    {
     "name": "stdout",
     "output_type": "stream",
     "text": [
      "[(179, 0), (178, 1), (177, 2), (176, 3), (176, 4), (176, 5), (175, 6), (176, 7), (176, 8), (177, 9), (177, 10), (178, 11), (179, 12), (181, 13), (183, 14), (185, 15), (185, 16), (188, 17), (189, 18), (191, 19), (193, 20), (194, 21), (195, 22), (264, 23), (197, 24), (199, 25), (195, 26), (194, 27), (192, 28), (191, 29), (190, 30), (187, 31), (185, 32), (184, 33), (182, 34), (180, 35), (179, 36), (177, 37), (176, 38), (176, 39), (176, 40), (176, 41), (175, 42), (176, 43), (194, 44), (175, 45), (176, 46), (177, 47), (178, 48), (180, 49), (182, 50), (183, 51), (185, 52), (186, 53), (188, 54), (189, 55), (191, 56), (193, 57), (194, 58), (195, 59), (195, 60), (195, 61), (195, 62), (194, 63), (193, 64), (191, 65), (189, 66), (187, 67), (185, 68), (184, 69), (182, 70), (181, 71), (179, 72), (178, 73), (177, 74), (176, 75), (175, 76), (175, 77), (175, 78), (175, 79), (175, 80), (175, 81), (175, 82), (176, 83), (176, 84), (177, 85), (179, 86), (180, 87), (182, 88), (183, 89), (185, 90), (186, 91), (189, 92), (191, 93), (192, 94), (194, 95), (195, 96), (195, 97), (195, 98), (193, 99), (192, 100), (191, 101), (190, 102), (189, 103), (188, 104), (186, 105), (184, 106), (182, 107), (180, 108), (179, 109), (178, 110), (176, 111), (176, 112), (175, 113), (174, 114), (174, 115), (174, 116), (174, 117), (174, 118), (174, 119), (175, 120), (176, 121), (177, 122), (179, 123), (180, 124), (182, 125), (183, 126), (185, 127), (187, 128), (188, 129), (190, 130), (192, 131), (193, 132), (195, 133), (195, 134), (194, 135), (194, 136), (193, 137), (191, 138), (189, 139)]\n"
     ]
    }
   ],
   "source": [
    "upper = []\n",
    "for col in range(img4.shape[1]):\n",
    "    for row in range(mid):\n",
    "        if int(img4[row,col]) == 255:\n",
    "            tup = (row,col)\n",
    "            upper.append(tup)\n",
    "            tup = ()\n",
    "\n",
    "print(upper)  "
   ]
  },
  {
   "cell_type": "code",
   "execution_count": 230,
   "metadata": {},
   "outputs": [
    {
     "name": "stdout",
     "output_type": "stream",
     "text": [
      "[(389, 139), (390, 138), (378, 137), (390, 136), (389, 135), (390, 134), (389, 133), (388, 132), (387, 131), (386, 130), (385, 129), (383, 128), (382, 127), (380, 126), (379, 125), (378, 124), (376, 123), (374, 122), (371, 121), (370, 120), (370, 119), (369, 118), (368, 117), (369, 116), (369, 115), (370, 114), (371, 113), (373, 112), (375, 111), (377, 110), (378, 109), (380, 108), (381, 107), (383, 106), (385, 105), (387, 104), (388, 103), (389, 102), (390, 101), (391, 100), (390, 99), (390, 98), (390, 97), (390, 96), (389, 95), (387, 94), (385, 93), (384, 92), (383, 91), (382, 90), (380, 89), (378, 88), (375, 87), (373, 86), (372, 85), (371, 84), (370, 83), (369, 82), (369, 81), (369, 80), (370, 79), (370, 78), (371, 77), (372, 76), (373, 75), (374, 74), (376, 73), (379, 72), (381, 71), (383, 70), (384, 69), (386, 68), (387, 67), (388, 66), (389, 65), (390, 64), (390, 63), (390, 62), (390, 61), (390, 60), (389, 59), (388, 58), (388, 57), (386, 56), (384, 55), (383, 54), (381, 53), (380, 52), (378, 51), (375, 50), (374, 49), (372, 48), (371, 47), (370, 46), (369, 45), (369, 44), (369, 43), (370, 42), (371, 41), (372, 40), (373, 39), (375, 38), (376, 37), (377, 36), (379, 35), (380, 34), (383, 33), (385, 32), (386, 31), (388, 30), (388, 29), (389, 28), (391, 27), (390, 26), (390, 25), (390, 24), (390, 23), (390, 22), (389, 21), (389, 20), (388, 19), (387, 18), (387, 17), (383, 16), (379, 15), (378, 14), (375, 13), (373, 12), (372, 11), (371, 10), (371, 9), (370, 8), (370, 7), (371, 6), (371, 5), (369, 4), (372, 3), (373, 2), (376, 1)]\n"
     ]
    }
   ],
   "source": [
    "lower = []\n",
    "for col in range(img4.shape[1]-1,-1,-1):\n",
    "    for row in range(mid+1,img4.shape[0]):\n",
    "        if int(img4[row,col]) == 255:\n",
    "            tup = (row,col)\n",
    "            lower.append(tup)\n",
    "            tup = ()\n",
    "\n",
    "print(lower)  "
   ]
  },
  {
   "cell_type": "code",
   "execution_count": 231,
   "metadata": {},
   "outputs": [
    {
     "name": "stdout",
     "output_type": "stream",
     "text": [
      "[(1, 179, 0), (1, 178, 1), (1, 177, 2), (1, 176, 5), (0, 175, 6), (0, 176, 8), (0, 177, 10), (0, 178, 11), (0, 179, 12), (0, 181, 13), (0, 183, 14), (0, 185, 16), (0, 188, 17), (0, 189, 18), (0, 191, 19), (0, 193, 20), (0, 194, 21), (0, 195, 22), (1, 264, 23), (0, 197, 24), (1, 199, 25), (1, 195, 26), (1, 194, 27), (1, 192, 28), (1, 191, 29), (1, 190, 30), (1, 187, 31), (1, 185, 32), (1, 184, 33), (1, 182, 34), (1, 180, 35), (1, 179, 36), (1, 177, 37), (1, 176, 41), (0, 175, 42), (0, 176, 43), (1, 194, 44), (0, 175, 45), (0, 176, 46), (0, 177, 47), (0, 178, 48), (0, 180, 49), (0, 182, 50), (0, 183, 51), (0, 185, 52), (0, 186, 53), (0, 188, 54), (0, 189, 55), (0, 191, 56), (0, 193, 57), (0, 194, 58), (1, 195, 62), (1, 194, 63), (1, 193, 64), (1, 191, 65), (1, 189, 66), (1, 187, 67), (1, 185, 68), (1, 184, 69), (1, 182, 70), (1, 181, 71), (1, 179, 72), (1, 178, 73), (1, 177, 74), (1, 176, 75), (0, 175, 82), (0, 176, 84), (0, 177, 85), (0, 179, 86), (0, 180, 87), (0, 182, 88), (0, 183, 89), (0, 185, 90), (0, 186, 91), (0, 189, 92), (0, 191, 93), (0, 192, 94), (0, 194, 95), (1, 195, 98), (1, 193, 99), (1, 192, 100), (1, 191, 101), (1, 190, 102), (1, 189, 103), (1, 188, 104), (1, 186, 105), (1, 184, 106), (1, 182, 107), (1, 180, 108), (1, 179, 109), (1, 178, 110), (1, 176, 112), (1, 175, 113), (0, 174, 119), (0, 175, 120), (0, 176, 121), (0, 177, 122), (0, 179, 123), (0, 180, 124), (0, 182, 125), (0, 183, 126), (0, 185, 127), (0, 187, 128), (0, 188, 129), (0, 190, 130), (0, 192, 131), (0, 193, 132), (1, 195, 134), (1, 194, 136), (1, 193, 137), (1, 191, 138)]\n"
     ]
    }
   ],
   "source": [
    "direction_upper = []\n",
    "for x in range(len(upper)-1):\n",
    "    if upper[x][0] > upper[x+1][0]:\n",
    "        tup = (1,upper[x][0],upper[x][1])\n",
    "        direction_upper.append(tup)\n",
    "        tup = ()\n",
    "    elif upper[x][0] < upper[x+1][0]:\n",
    "        tup = (0,upper[x][0],upper[x][1])\n",
    "        direction_upper.append(tup)\n",
    "        tup = ()\n",
    "    else:\n",
    "        continue\n",
    "\n",
    "print(direction_upper)"
   ]
  },
  {
   "cell_type": "code",
   "execution_count": 232,
   "metadata": {},
   "outputs": [],
   "source": [
    "crest_upper = []\n",
    "root_upper = []\n",
    "for x in range(len(direction_upper)-4):\n",
    "    if direction_upper[x][0] == 1 and direction_upper[x+1][0] == 0 and direction_upper[x+2][0] == 0 and direction_upper[x+3][0] == 0 and direction_upper[x+4][0] == 0:\n",
    "        tup = (direction_upper[x][1],direction_upper[x][2])\n",
    "        crest_upper.append(tup)\n",
    "        tup = ()\n",
    "    elif direction_upper[x][0] == 0 and direction_upper[x+1][0] == 1 and direction_upper[x+2][0] == 1 and direction_upper[x+3][0] == 1:\n",
    "        tup = (direction_upper[x][1],direction_upper[x][2])\n",
    "        root_upper.append(tup)\n",
    "        tup = ()"
   ]
  },
  {
   "cell_type": "code",
   "execution_count": 233,
   "metadata": {},
   "outputs": [
    {
     "name": "stdout",
     "output_type": "stream",
     "text": [
      "[(176, 5), (194, 44), (176, 75), (175, 113)]\n",
      "[(197, 24), (194, 58), (194, 95), (193, 132)]\n"
     ]
    }
   ],
   "source": [
    "print(crest_upper)\n",
    "print(root_upper)"
   ]
  },
  {
   "cell_type": "code",
   "execution_count": 234,
   "metadata": {},
   "outputs": [
    {
     "data": {
      "text/plain": [
       "-1"
      ]
     },
     "execution_count": 234,
     "metadata": {},
     "output_type": "execute_result"
    }
   ],
   "source": [
    "img5 = img4.copy()\n",
    "for coord in crest_upper:\n",
    "    cv2.circle(img5,(coord[1],coord[0]),5,155,1)\n",
    "cv2.imshow('crestpoints',img5)\n",
    "cv2.waitKey(0)"
   ]
  },
  {
   "cell_type": "code",
   "execution_count": 176,
   "metadata": {},
   "outputs": [
    {
     "data": {
      "text/plain": [
       "-1"
      ]
     },
     "execution_count": 176,
     "metadata": {},
     "output_type": "execute_result"
    }
   ],
   "source": [
    "img6 = img4.copy()\n",
    "for coord in root_upper:\n",
    "    cv2.circle(img6,(coord[1],coord[0]),5,155,1)\n",
    "cv2.imshow('rootpoints',img6)\n",
    "cv2.waitKey(0)"
   ]
  },
  {
   "cell_type": "code",
   "execution_count": 177,
   "metadata": {},
   "outputs": [],
   "source": [
    "(Y1,X1) = crest_upper[0]\n",
    "(Y2,X2) = crest_upper[-1]"
   ]
  },
  {
   "cell_type": "code",
   "execution_count": 178,
   "metadata": {},
   "outputs": [],
   "source": [
    "upper_crest_group = []\n",
    "upper_root_group = []\n",
    "for coord in upper:\n",
    "    (Y3,X3) = coord\n",
    "    pd = (((X2-X1)*(Y1-Y3)) - ((X1-X3)*(Y2-Y1)))/m.sqrt((X2-X1)**2 + (Y2-Y1)**2)\n",
    "    if pd<1 and pd>-1:\n",
    "        tup = (Y3,X3)\n",
    "        upper_crest_group.append(tup)\n",
    "        tup = ()\n",
    "\n",
    "(Y1,X1) = root_upper[0]\n",
    "(Y2,X2) = root_upper[-1]\n",
    "for coord in upper:\n",
    "    (Y3,X3) = coord\n",
    "    pd = (((X2-X1)*(Y1-Y3)) - ((X1-X3)*(Y2-Y1)))/m.sqrt((X2-X1)**2 + (Y2-Y1)**2)\n",
    "    if pd<1 and pd>-1:\n",
    "        tup = (Y3,X3)\n",
    "        upper_root_group.append(tup)\n",
    "        tup = ()"
   ]
  },
  {
   "cell_type": "code",
   "execution_count": 179,
   "metadata": {},
   "outputs": [
    {
     "data": {
      "text/plain": [
       "-1"
      ]
     },
     "execution_count": 179,
     "metadata": {},
     "output_type": "execute_result"
    }
   ],
   "source": [
    "img7 = img4.copy()\n",
    "for coord in upper_crest_group:\n",
    "    cv2.circle(img7,(coord[1],coord[0]),5,155,1)\n",
    "cv2.imshow('crestpoints',img7)\n",
    "cv2.waitKey(0)\n",
    "\n",
    "img8 = img4.copy()\n",
    "for coord in upper_root_group:\n",
    "    cv2.circle(img8,(coord[1],coord[0]),5,155,1)\n",
    "cv2.imshow('rootpoints',img8)\n",
    "cv2.waitKey(0)"
   ]
  },
  {
   "cell_type": "code",
   "execution_count": 180,
   "metadata": {
    "scrolled": true
   },
   "outputs": [
    {
     "name": "stdout",
     "output_type": "stream",
     "text": [
      "35\n",
      "13\n"
     ]
    }
   ],
   "source": [
    "print(len(upper_crest_group))\n",
    "print(len(upper_root_group))"
   ]
  },
  {
   "cell_type": "code",
   "execution_count": 181,
   "metadata": {},
   "outputs": [],
   "source": [
    "group = 1\n",
    "upper_crest_clustered = []\n",
    "upper_crest_clustered.append((upper_crest_group[0][0],upper_crest_group[0][1],group))\n",
    "for i in range(len(upper_crest_group)-1):\n",
    "    (Y1,X1) = upper_crest_group[i]\n",
    "    (Y2,X2) = upper_crest_group[i+1]\n",
    "    pd = m.sqrt((X2-X1)**2 + (Y2-Y1)**2)\n",
    "    if pd<7:\n",
    "        upper_crest_clustered.append((Y2,X2,group))\n",
    "    else:\n",
    "        group = group+1\n",
    "        upper_crest_clustered.append((Y2,X2,group))"
   ]
  },
  {
   "cell_type": "code",
   "execution_count": 182,
   "metadata": {},
   "outputs": [
    {
     "data": {
      "text/plain": [
       "[1, 2, 3, 4]"
      ]
     },
     "execution_count": 182,
     "metadata": {},
     "output_type": "execute_result"
    }
   ],
   "source": [
    "list2 = []\n",
    "for i in range(len(upper_crest_clustered)):\n",
    "    list2.append(upper_crest_clustered[i][2])\n",
    "list2 = list(set(list2))\n",
    "list2"
   ]
  },
  {
   "cell_type": "code",
   "execution_count": 183,
   "metadata": {},
   "outputs": [
    {
     "name": "stdout",
     "output_type": "stream",
     "text": [
      "[(176, 5, 1), (175, 42, 2), (175, 80, 3), (174, 116, 4)]\n"
     ]
    }
   ],
   "source": [
    "list3 = []\n",
    "final_upper_crests = []\n",
    "for i in list2:\n",
    "    for coord in upper_crest_clustered:\n",
    "        if coord[2] == i:\n",
    "            list3.append(coord)\n",
    "    final_upper_crests.append(list3[int(len(list3)/2)])\n",
    "    list3 = []\n",
    "print(final_upper_crests)    "
   ]
  },
  {
   "cell_type": "code",
   "execution_count": 184,
   "metadata": {},
   "outputs": [
    {
     "data": {
      "text/plain": [
       "-1"
      ]
     },
     "execution_count": 184,
     "metadata": {},
     "output_type": "execute_result"
    }
   ],
   "source": [
    "img9 = img4.copy()\n",
    "for coord in final_upper_crests:\n",
    "    cv2.circle(img9,(coord[1],coord[0]),4,200,1)\n",
    "cv2.imshow('new_crests',img9)\n",
    "cv2.waitKey(0)"
   ]
  },
  {
   "cell_type": "code",
   "execution_count": 185,
   "metadata": {},
   "outputs": [],
   "source": [
    "group1 = 1\n",
    "upper_root_clustered = []\n",
    "upper_root_clustered.append((upper_root_group[0][0],upper_root_group[0][1],group1))\n",
    "for i in range(len(upper_root_group)-1):\n",
    "    (Y1,X1) = upper_root_group[i]\n",
    "    (Y2,X2) = upper_root_group[i+1]\n",
    "    pd = m.sqrt((X2-X1)**2 + (Y2-Y1)**2)\n",
    "    if pd<9:\n",
    "        upper_root_clustered.append((Y2,X2,group1))\n",
    "    else:\n",
    "        group1 = group1+1\n",
    "        upper_root_clustered.append((Y2,X2,group1))"
   ]
  },
  {
   "cell_type": "code",
   "execution_count": 186,
   "metadata": {},
   "outputs": [
    {
     "data": {
      "text/plain": [
       "[1, 2, 3, 4]"
      ]
     },
     "execution_count": 186,
     "metadata": {},
     "output_type": "execute_result"
    }
   ],
   "source": [
    "list6 = []\n",
    "for i in range(len(upper_root_clustered)):\n",
    "    list6.append(upper_root_clustered[i][2])\n",
    "list6 = list(set(list6))\n",
    "list6"
   ]
  },
  {
   "cell_type": "code",
   "execution_count": 187,
   "metadata": {},
   "outputs": [
    {
     "name": "stdout",
     "output_type": "stream",
     "text": [
      "[(195, 26, 1), (195, 61, 2), (193, 99, 3), (193, 137, 4)]\n"
     ]
    }
   ],
   "source": [
    "list7 = []\n",
    "final_upper_roots = []\n",
    "for i in list6:\n",
    "    for coord in upper_root_clustered:\n",
    "        if coord[2] == i:\n",
    "            list7.append(coord)\n",
    "    final_upper_roots.append(list7[int(len(list7)/2)])\n",
    "    list7 = []\n",
    "print(final_upper_roots)    "
   ]
  },
  {
   "cell_type": "code",
   "execution_count": 188,
   "metadata": {},
   "outputs": [
    {
     "data": {
      "text/plain": [
       "-1"
      ]
     },
     "execution_count": 188,
     "metadata": {},
     "output_type": "execute_result"
    }
   ],
   "source": [
    "img10 = img4.copy()\n",
    "for coord in final_upper_crests:\n",
    "    cv2.circle(img10,(coord[1],coord[0]),4,200,1)\n",
    "\n",
    "for coord in final_upper_roots:\n",
    "    cv2.circle(img10,(coord[1],coord[0]),4,200,1)\n",
    "\n",
    "cv2.imshow('final_image',img10)\n",
    "cv2.waitKey(0)"
   ]
  },
  {
   "cell_type": "code",
   "execution_count": 189,
   "metadata": {},
   "outputs": [
    {
     "data": {
      "text/plain": [
       "-1"
      ]
     },
     "execution_count": 189,
     "metadata": {},
     "output_type": "execute_result"
    }
   ],
   "source": [
    "img11 = img10.copy()\n",
    "cv2.line(img11,(final_upper_crests[0][1],final_upper_crests[0][0]),(final_upper_crests[-1][1],final_upper_crests[-1][0]),200,1)\n",
    "cv2.line(img11,(final_upper_roots[0][1],final_upper_roots[0][0]),(final_upper_roots[-1][1],final_upper_roots[-1][0]),200,1)\n",
    "cv2.imshow('lines',img11)\n",
    "cv2.waitKey(0)"
   ]
  },
  {
   "cell_type": "code",
   "execution_count": 190,
   "metadata": {},
   "outputs": [
    {
     "name": "stdout",
     "output_type": "stream",
     "text": [
      "[(0, 389, 139), (1, 390, 136), (0, 389, 135), (1, 390, 134), (1, 389, 133), (1, 388, 132), (1, 387, 131), (1, 386, 130), (1, 385, 129), (1, 383, 128), (1, 382, 127), (1, 380, 126), (1, 379, 125), (1, 378, 124), (1, 376, 123), (1, 374, 122), (1, 371, 121), (1, 370, 119), (1, 369, 118), (0, 368, 117), (0, 369, 115), (0, 370, 114), (0, 371, 113), (0, 373, 112), (0, 375, 111), (0, 377, 110), (0, 378, 109), (0, 380, 108), (0, 381, 107), (0, 383, 106), (0, 385, 105), (0, 387, 104), (0, 388, 103), (0, 389, 102), (0, 390, 101), (1, 391, 100), (1, 390, 96), (1, 389, 95), (1, 387, 94), (1, 385, 93), (1, 384, 92), (1, 383, 91), (1, 382, 90), (1, 380, 89), (1, 378, 88), (1, 375, 87), (1, 373, 86), (1, 372, 85), (1, 371, 84), (1, 370, 83), (0, 369, 80), (0, 370, 78), (0, 371, 77), (0, 372, 76), (0, 373, 75), (0, 374, 74), (0, 376, 73), (0, 379, 72), (0, 381, 71), (0, 383, 70), (0, 384, 69), (0, 386, 68), (0, 387, 67), (0, 388, 66), (0, 389, 65), (1, 390, 60), (1, 389, 59), (1, 388, 57), (1, 386, 56), (1, 384, 55), (1, 383, 54), (1, 381, 53), (1, 380, 52), (1, 378, 51), (1, 375, 50), (1, 374, 49), (1, 372, 48), (1, 371, 47), (1, 370, 46), (0, 369, 43), (0, 370, 42), (0, 371, 41), (0, 372, 40), (0, 373, 39), (0, 375, 38), (0, 376, 37), (0, 377, 36), (0, 379, 35), (0, 380, 34), (0, 383, 33), (0, 385, 32), (0, 386, 31), (0, 388, 29), (0, 389, 28), (1, 391, 27), (1, 390, 22), (1, 389, 20), (1, 388, 19), (1, 387, 17), (1, 383, 16), (1, 379, 15), (1, 378, 14), (1, 375, 13), (1, 373, 12), (1, 372, 11), (1, 371, 9), (0, 370, 7), (1, 371, 5), (0, 369, 4), (0, 372, 3), (0, 373, 2)]\n"
     ]
    }
   ],
   "source": [
    "direction_lower = []\n",
    "for x in range(len(lower)-1):\n",
    "    if lower[x][0] > lower[x+1][0]:\n",
    "        tup = (1,lower[x][0],lower[x][1])\n",
    "        direction_lower.append(tup)\n",
    "        tup = ()\n",
    "    elif lower[x][0] < lower[x+1][0]:\n",
    "        tup = (0,lower[x][0],lower[x][1])\n",
    "        direction_lower.append(tup)\n",
    "        tup = ()\n",
    "    else:\n",
    "        continue\n",
    "\n",
    "print(direction_lower)"
   ]
  },
  {
   "cell_type": "code",
   "execution_count": 191,
   "metadata": {},
   "outputs": [],
   "source": [
    "root_lower = []\n",
    "crest_lower = []\n",
    "for x in range(len(direction_lower)-4):\n",
    "    if direction_lower[x][0] == 1 and direction_lower[x+1][0] == 0 and direction_lower[x+2][0] == 0 and direction_lower[x+3][0] == 0 and direction_lower[x+4][0] == 0:\n",
    "        tup = (direction_lower[x][1],direction_lower[x][2])\n",
    "        root_lower.append(tup)\n",
    "        tup = ()\n",
    "    elif direction_lower[x][0] == 0 and direction_lower[x+1][0] == 1 and direction_lower[x+2][0] == 1:\n",
    "        tup = (direction_lower[x][1],direction_lower[x][2])\n",
    "        crest_lower.append(tup)\n",
    "        tup = ()\n"
   ]
  },
  {
   "cell_type": "code",
   "execution_count": 192,
   "metadata": {},
   "outputs": [
    {
     "name": "stdout",
     "output_type": "stream",
     "text": [
      "[(369, 118), (370, 83), (370, 46)]\n",
      "[(389, 135), (390, 101), (389, 65), (389, 28)]\n"
     ]
    }
   ],
   "source": [
    "print(root_lower)\n",
    "print(crest_lower)"
   ]
  },
  {
   "cell_type": "code",
   "execution_count": 193,
   "metadata": {},
   "outputs": [],
   "source": [
    "(Y1,X1) = root_lower[0]\n",
    "(Y2,X2) = root_lower[-1]\n",
    "lower_root_group = []\n",
    "for coord in lower:\n",
    "    (Y3,X3) = coord\n",
    "    pd = (((X2-X1)*(Y1-Y3)) - ((X1-X3)*(Y2-Y1)))/m.sqrt((X2-X1)**2 + (Y2-Y1)**2)\n",
    "    if pd<1 and pd>-1:\n",
    "        tup = (Y3,X3)\n",
    "        lower_root_group.append(tup)\n",
    "        tup = ()\n",
    "\n",
    "(Y1,X1) = crest_lower[0]\n",
    "(Y2,X2) = crest_lower[-1]\n",
    "lower_crest_group = []\n",
    "for coord in lower:\n",
    "    (Y3,X3) = coord\n",
    "    pd = (((X2-X1)*(Y1-Y3)) - ((X1-X3)*(Y2-Y1)))/m.sqrt((X2-X1)**2 + (Y2-Y1)**2)\n",
    "    if pd<1 and pd>-1:\n",
    "        tup = (Y3,X3)\n",
    "        lower_crest_group.append(tup)\n",
    "        tup = ()"
   ]
  },
  {
   "cell_type": "code",
   "execution_count": 194,
   "metadata": {},
   "outputs": [],
   "source": [
    "group2 = 1\n",
    "lower_root_clustered = []\n",
    "lower_root_clustered.append((lower_root_group[0][0],lower_root_group[0][1],group2))\n",
    "for i in range(len(lower_root_group)-1):\n",
    "    (Y1,X1) = lower_root_group[i]\n",
    "    (Y2,X2) = lower_root_group[i+1]\n",
    "    pd = m.sqrt((X2-X1)**2 + (Y2-Y1)**2)\n",
    "    if pd<7:\n",
    "        lower_root_clustered.append((Y2,X2,group2))\n",
    "    else:\n",
    "        group2 = group2+1\n",
    "        lower_root_clustered.append((Y2,X2,group2))"
   ]
  },
  {
   "cell_type": "code",
   "execution_count": 195,
   "metadata": {},
   "outputs": [
    {
     "data": {
      "text/plain": [
       "[1, 2, 3, 4]"
      ]
     },
     "execution_count": 195,
     "metadata": {},
     "output_type": "execute_result"
    }
   ],
   "source": [
    "list10 = []\n",
    "for i in range(len(lower_root_clustered)):\n",
    "    list10.append(lower_root_clustered[i][2])\n",
    "list10 = list(set(list10))\n",
    "list10"
   ]
  },
  {
   "cell_type": "code",
   "execution_count": 196,
   "metadata": {},
   "outputs": [
    {
     "name": "stdout",
     "output_type": "stream",
     "text": [
      "[(369, 115, 1), (369, 80, 2), (370, 42, 3), (370, 7, 4)]\n"
     ]
    }
   ],
   "source": [
    "list11 = []\n",
    "final_lower_roots = []\n",
    "for i in list10:\n",
    "    for coord in lower_root_clustered:\n",
    "        if coord[2] == i:\n",
    "            list11.append(coord)\n",
    "    final_lower_roots.append(list11[int(len(list11)/2)])\n",
    "    list11 = []\n",
    "print(final_lower_roots)   "
   ]
  },
  {
   "cell_type": "code",
   "execution_count": 197,
   "metadata": {},
   "outputs": [
    {
     "data": {
      "text/plain": [
       "-1"
      ]
     },
     "execution_count": 197,
     "metadata": {},
     "output_type": "execute_result"
    }
   ],
   "source": [
    "img12 = img11.copy()\n",
    "for coord in final_lower_roots:\n",
    "    cv2.circle(img12,(coord[1],coord[0]),4,200,1)\n",
    "cv2.imshow('final_lower_roots',img12)\n",
    "cv2.waitKey(0)"
   ]
  },
  {
   "cell_type": "code",
   "execution_count": 198,
   "metadata": {},
   "outputs": [],
   "source": [
    "group3 = 1\n",
    "lower_crest_clustered = []\n",
    "lower_crest_clustered.append((lower_crest_group[0][0],lower_crest_group[0][1],group3))\n",
    "for i in range(len(lower_crest_group)-1):\n",
    "    (Y1,X1) = lower_crest_group[i]\n",
    "    (Y2,X2) = lower_crest_group[i+1]\n",
    "    pd = m.sqrt((X2-X1)**2 + (Y2-Y1)**2)\n",
    "    if pd<7:\n",
    "        lower_crest_clustered.append((Y2,X2,group3))\n",
    "    else:\n",
    "        group3 = group3+1\n",
    "        lower_crest_clustered.append((Y2,X2,group3))"
   ]
  },
  {
   "cell_type": "code",
   "execution_count": 199,
   "metadata": {},
   "outputs": [
    {
     "data": {
      "text/plain": [
       "[1, 2, 3, 4, 5, 6]"
      ]
     },
     "execution_count": 199,
     "metadata": {},
     "output_type": "execute_result"
    }
   ],
   "source": [
    "list14 = []\n",
    "for i in range(len(lower_crest_clustered)):\n",
    "    list14.append(lower_crest_clustered[i][2])\n",
    "list14 = list(set(list14))\n",
    "list14"
   ]
  },
  {
   "cell_type": "code",
   "execution_count": 200,
   "metadata": {},
   "outputs": [
    {
     "name": "stdout",
     "output_type": "stream",
     "text": [
      "[(389, 135, 1), (389, 102, 2), (389, 95, 3), (389, 59, 4), (389, 28, 5), (389, 20, 6)]\n"
     ]
    }
   ],
   "source": [
    "list15 = []\n",
    "final_lower_crests = []\n",
    "for i in list14:\n",
    "    for coord in lower_crest_clustered:\n",
    "        if coord[2] == i:\n",
    "            list15.append(coord)\n",
    "    final_lower_crests.append(list15[int(len(list15)/2)])\n",
    "    list15 = []\n",
    "print(final_lower_crests)   "
   ]
  },
  {
   "cell_type": "code",
   "execution_count": 201,
   "metadata": {},
   "outputs": [
    {
     "data": {
      "text/plain": [
       "-1"
      ]
     },
     "execution_count": 201,
     "metadata": {},
     "output_type": "execute_result"
    }
   ],
   "source": [
    "img13 = img12.copy()\n",
    "for coord in final_lower_crests:\n",
    "    cv2.circle(img13,(coord[1],coord[0]),4,200,1)\n",
    "cv2.imshow('final_lower_crests',img13)\n",
    "cv2.waitKey(0)"
   ]
  },
  {
   "cell_type": "code",
   "execution_count": 136,
   "metadata": {},
   "outputs": [
    {
     "data": {
      "text/plain": [
       "-1"
      ]
     },
     "execution_count": 136,
     "metadata": {},
     "output_type": "execute_result"
    }
   ],
   "source": [
    "img14 = img13.copy()\n",
    "cv2.line(img14,(final_upper_crests[0][1],final_upper_crests[0][0]),(final_upper_crests[-1][1],final_upper_crests[-1][0]),200,1)\n",
    "cv2.line(img14,(final_upper_roots[0][1],final_upper_roots[0][0]),(final_upper_roots[-1][1],final_upper_roots[-1][0]),200,1)\n",
    "cv2.line(img14,(final_lower_roots[0][1],final_lower_roots[0][0]),(final_lower_roots[-1][1],final_lower_roots[-1][0]),200,1)\n",
    "cv2.line(img14,(final_lower_crests[0][1],final_lower_crests[0][0]),(final_lower_crests[-1][1],final_lower_crests[-1][0]),200,1)\n",
    "cv2.imshow('lines',img14)\n",
    "cv2.waitKey(0)"
   ]
  },
  {
   "cell_type": "code",
   "execution_count": 137,
   "metadata": {},
   "outputs": [
    {
     "name": "stdout",
     "output_type": "stream",
     "text": [
      "Mean pitch in pixel distance:33.639864049437506 pixels\n"
     ]
    }
   ],
   "source": [
    "pitch_list = []\n",
    "for i in range(len(final_upper_crests)-1):\n",
    "    X1 = final_upper_crests[i][0]\n",
    "    Y1 = final_upper_crests[i][1]\n",
    "    X2 = final_upper_crests[i+1][0]\n",
    "    Y2 = final_upper_crests[i+1][1]\n",
    "    dist = m.sqrt((X2-X1)**2 + (Y2-Y1)**2)\n",
    "    pitch_list.append(dist)\n",
    "for i in range(len(final_upper_roots)-1):\n",
    "    X1 = final_upper_roots[i][0]\n",
    "    Y1 = final_upper_roots[i][1]\n",
    "    X2 = final_upper_roots[i+1][0]\n",
    "    Y2 = final_upper_roots[i+1][1]\n",
    "    dist = m.sqrt((X2-X1)**2 + (Y2-Y1)**2)\n",
    "    pitch_list.append(dist)\n",
    "for i in range(len(final_lower_roots)-1):\n",
    "    X1 = final_lower_roots[i][0]\n",
    "    Y1 = final_lower_roots[i][1]\n",
    "    X2 = final_lower_roots[i+1][0]\n",
    "    Y2 = final_lower_roots[i+1][1]\n",
    "    dist = m.sqrt((X2-X1)**2 + (Y2-Y1)**2)\n",
    "    pitch_list.append(dist)\n",
    "for i in range(len(final_lower_crests)-1):\n",
    "    X1 = final_lower_crests[i][0]\n",
    "    Y1 = final_lower_crests[i][1]\n",
    "    X2 = final_lower_crests[i+1][0]\n",
    "    Y2 = final_lower_crests[i+1][1]\n",
    "    dist = m.sqrt((X2-X1)**2 + (Y2-Y1)**2)\n",
    "    pitch_list.append(dist)\n",
    "\n",
    "print(\"Mean pitch in pixel distance:\"+str(sum(pitch_list)/len(pitch_list))+\" pixels\")    "
   ]
  },
  {
   "cell_type": "code",
   "execution_count": 138,
   "metadata": {},
   "outputs": [
    {
     "data": {
      "text/plain": [
       "(293, 296, 3)"
      ]
     },
     "execution_count": 138,
     "metadata": {},
     "output_type": "execute_result"
    }
   ],
   "source": [
    "conversion = cv2.imread('mm_measure2.jpg',1)\n",
    "cv2.imshow('crop',conversion)\n",
    "cv2.waitKey(0)\n",
    "conversion.shape"
   ]
  },
  {
   "cell_type": "code",
   "execution_count": 139,
   "metadata": {},
   "outputs": [
    {
     "name": "stdout",
     "output_type": "stream",
     "text": [
      "Pitch of the screw:0.8523614201715585 mm\n"
     ]
    }
   ],
   "source": [
    "#296 pixels = 7.5mm\n",
    "pixels_per_metric = 7.5/296\n",
    "mean_pitch = sum(pitch_list)/len(pitch_list)\n",
    "print(\"Pitch of the screw:\"+str(pixels_per_metric * mean_pitch)+\" mm\")"
   ]
  },
  {
   "cell_type": "code",
   "execution_count": 140,
   "metadata": {},
   "outputs": [
    {
     "name": "stdout",
     "output_type": "stream",
     "text": [
      "Depth of screw threads:0.4863313394784992 mm\n"
     ]
    }
   ],
   "source": [
    "depth_list = []\n",
    "\n",
    "Y1,X1 = final_upper_roots[0][0] , final_upper_roots[0][1]\n",
    "Y2,X2 = final_upper_roots[-1][0] , final_upper_roots[-1][1]\n",
    "for coord in final_upper_crests:\n",
    "    Y3,X3 = coord[0],coord[1]\n",
    "    pd = (((X2-X1)*(Y1-Y3)) - ((X1-X3)*(Y2-Y1)))/m.sqrt((X2-X1)**2 + (Y2-Y1)**2)\n",
    "    depth_list.append(abs(pd))\n",
    "\n",
    "Y1,X1 = final_lower_crests[0][0] , final_lower_crests[0][1]\n",
    "Y2,X2 = final_lower_crests[-1][0] , final_lower_crests[-1][1]\n",
    "for coord in final_lower_roots:\n",
    "    Y3,X3 = coord[0],coord[1]\n",
    "    pd = (((X2-X1)*(Y1-Y3)) - ((X1-X3)*(Y2-Y1)))/m.sqrt((X2-X1)**2 + (Y2-Y1)**2)\n",
    "    depth_list.append(abs(pd))\n",
    "mean_depth = sum(depth_list)/len(depth_list)\n",
    "print(\"Depth of screw threads:\"+str(mean_depth*pixels_per_metric)+\" mm\")"
   ]
  },
  {
   "cell_type": "code",
   "execution_count": 141,
   "metadata": {},
   "outputs": [
    {
     "name": "stdout",
     "output_type": "stream",
     "text": [
      "Major Diameter of screw:5.422297297297297 mm\n"
     ]
    }
   ],
   "source": [
    "major_dia_list = []\n",
    "Y1,X1 = final_lower_crests[0][0] , final_lower_crests[0][1]\n",
    "Y2,X2 = final_lower_crests[-1][0] , final_lower_crests[-1][1]\n",
    "for coord in final_upper_crests:\n",
    "    Y3,X3 = coord[0],coord[1]\n",
    "    pd = (((X2-X1)*(Y1-Y3)) - ((X1-X3)*(Y2-Y1)))/m.sqrt((X2-X1)**2 + (Y2-Y1)**2)\n",
    "    major_dia_list.append(abs(pd))\n",
    "mean_major_dia = sum(major_dia_list)/len(major_dia_list)\n",
    "print(\"Major Diameter of screw:\"+str(mean_major_dia*pixels_per_metric)+\" mm\")"
   ]
  },
  {
   "cell_type": "code",
   "execution_count": 142,
   "metadata": {},
   "outputs": [
    {
     "name": "stdout",
     "output_type": "stream",
     "text": [
      "Minor Diameter of screw:4.445679251428234 mm\n"
     ]
    }
   ],
   "source": [
    "minor_dia_list = []\n",
    "Y1,X1 = final_lower_roots[0][0] , final_lower_roots[0][1]\n",
    "Y2,X2 = final_lower_roots[-1][0] , final_lower_roots[-1][1]\n",
    "for coord in final_upper_roots:\n",
    "    Y3,X3 = coord[0],coord[1]\n",
    "    pd = (((X2-X1)*(Y1-Y3)) - ((X1-X3)*(Y2-Y1)))/m.sqrt((X2-X1)**2 + (Y2-Y1)**2)\n",
    "    minor_dia_list.append(abs(pd))\n",
    "mean_minor_dia = sum(minor_dia_list)/len(minor_dia_list)\n",
    "print(\"Minor Diameter of screw:\"+str(mean_minor_dia*pixels_per_metric)+\" mm\")"
   ]
  },
  {
   "cell_type": "code",
   "execution_count": 143,
   "metadata": {},
   "outputs": [
    {
     "data": {
      "text/plain": [
       "4.449634618340299"
      ]
     },
     "execution_count": 143,
     "metadata": {},
     "output_type": "execute_result"
    }
   ],
   "source": [
    "mean_major_dia*pixels_per_metric - (2*mean_depth*pixels_per_metric)"
   ]
  },
  {
   "cell_type": "code",
   "execution_count": 144,
   "metadata": {},
   "outputs": [
    {
     "name": "stdout",
     "output_type": "stream",
     "text": [
      "[28.196723597964258, 32.42159170262183, 89.7540968767293]\n",
      "Thread angle of the thread:50.12413739243846°\n"
     ]
    }
   ],
   "source": [
    "included_angle_list = []\n",
    "for i in range(len(final_upper_roots)-1):\n",
    "    (y1,x1) = (final_upper_roots[i][0],final_upper_roots[i][1])\n",
    "    (y2,x2) = (final_upper_roots[i+1][0],final_upper_roots[i+1][1])\n",
    "    (y3,x3) = (final_upper_crests[i+1][0],final_upper_crests[i+1][1])\n",
    "    m1 = (y1-y3)/(x1-x3)\n",
    "    m2 = (y2-y3)/(x2-x3)\n",
    "    tan_theta = abs((m1-m2)/(1+m1*m2))\n",
    "    included_angle_list.append(tan_theta)\n",
    "included_angle_list = [m.atan(y)*180/m.pi for y in included_angle_list]\n",
    "print(included_angle_list)\n",
    "print(\"Thread angle of the thread:\"+str(sum(included_angle_list)/len(included_angle_list))+u\"\\u00b0\")"
   ]
  },
  {
   "cell_type": "code",
   "execution_count": 145,
   "metadata": {},
   "outputs": [
    {
     "name": "stdout",
     "output_type": "stream",
     "text": [
      "(689, 677)\n",
      "1\n",
      "2\n",
      "3\n",
      "4\n",
      "6\n",
      "8\n",
      "10\n",
      "13\n",
      "15\n",
      "18\n",
      "21\n",
      "24\n",
      "27\n",
      "29\n",
      "32\n",
      "34\n",
      "36\n",
      "38\n",
      "40\n",
      "42\n",
      "44\n",
      "45\n",
      "46\n",
      "48\n",
      "49\n",
      "50\n",
      "51\n",
      "53\n",
      "54\n",
      "55\n",
      "56\n",
      "57\n",
      "58\n",
      "59\n",
      "60\n",
      "61\n",
      "62\n",
      "63\n",
      "65\n",
      "66\n",
      "68\n",
      "69\n",
      "70\n",
      "71\n",
      "72\n",
      "73\n",
      "74\n",
      "75\n",
      "76\n",
      "77\n",
      "78\n",
      "79\n",
      "80\n",
      "81\n",
      "82\n",
      "83\n",
      "1\n",
      "2\n",
      "3\n",
      "4\n",
      "5\n",
      "6\n",
      "7\n",
      "9\n",
      "11\n",
      "13\n",
      "15\n",
      "18\n",
      "20\n",
      "21\n",
      "23\n",
      "25\n",
      "27\n",
      "28\n",
      "30\n",
      "31\n",
      "32\n",
      "33\n",
      "34\n",
      "35\n",
      "36\n",
      "37\n",
      "38\n",
      "39\n",
      "40\n",
      "41\n",
      "42\n",
      "43\n",
      "44\n",
      "45\n",
      "46\n",
      "47\n",
      "48\n",
      "49\n",
      "50\n",
      "51\n",
      "52\n",
      "53\n",
      "54\n",
      "56\n",
      "57\n",
      "58\n",
      "59\n",
      "60\n",
      "61\n",
      "62\n",
      "63\n",
      "64\n",
      "65\n",
      "66\n",
      "67\n",
      "68\n",
      "69\n",
      "70\n",
      "71\n",
      "72\n",
      "73\n",
      "74\n",
      "75\n",
      "76\n",
      "77\n",
      "78\n",
      "79\n",
      "80\n",
      "81\n",
      "82\n",
      "83\n",
      "84\n",
      "85\n",
      "86\n",
      "87\n",
      "88\n",
      "89\n",
      "90\n",
      "91\n",
      "92\n",
      "93\n",
      "94\n",
      "95\n",
      "96\n",
      "97\n",
      "98\n",
      "100\n",
      "102\n",
      "103\n",
      "105\n",
      "107\n",
      "109\n",
      "110\n",
      "111\n",
      "112\n",
      "113\n",
      "114\n",
      "115\n",
      "116\n",
      "117\n",
      "118\n",
      "119\n",
      "121\n",
      "122\n",
      "124\n",
      "125\n",
      "127\n",
      "129\n",
      "131\n",
      "132\n",
      "133\n",
      "134\n",
      "135\n",
      "136\n",
      "137\n",
      "139\n",
      "140\n",
      "142\n",
      "144\n",
      "145\n",
      "147\n",
      "149\n",
      "150\n",
      "151\n",
      "152\n",
      "153\n",
      "154\n",
      "155\n",
      "156\n",
      "157\n",
      "158\n",
      "159\n",
      "160\n",
      "162\n",
      "166\n",
      "168\n",
      "171\n",
      "174\n",
      "176\n",
      "178\n",
      "180\n",
      "181\n",
      "182\n",
      "183\n",
      "184\n",
      "185\n",
      "186\n",
      "187\n",
      "188\n",
      "190\n",
      "191\n",
      "192\n",
      "193\n",
      "195\n",
      "196\n",
      "198\n",
      "200\n",
      "203\n",
      "207\n",
      "210\n",
      "213\n",
      "216\n",
      "219\n",
      "221\n",
      "224\n",
      "225\n",
      "227\n",
      "228\n",
      "229\n",
      "230\n",
      "231\n",
      "230\n",
      "229\n",
      "228\n",
      "227\n",
      "228\n",
      "229\n",
      "230\n",
      "231\n",
      "232\n",
      "233\n",
      "234\n",
      "235\n",
      "236\n",
      "237\n",
      "238\n",
      "239\n",
      "241\n",
      "243\n",
      "245\n",
      "247\n",
      "248\n",
      "250\n",
      "251\n",
      "252\n",
      "253\n",
      "254\n",
      "255\n",
      "84\n",
      "85\n",
      "86\n",
      "87\n",
      "88\n",
      "89\n",
      "90\n",
      "91\n",
      "92\n",
      "93\n",
      "94\n",
      "95\n",
      "96\n",
      "97\n",
      "98\n",
      "99\n",
      "100\n",
      "101\n",
      "102\n",
      "103\n",
      "104\n",
      "105\n",
      "106\n",
      "107\n",
      "108\n",
      "109\n",
      "110\n",
      "111\n",
      "112\n",
      "113\n",
      "114\n",
      "115\n",
      "116\n",
      "118\n",
      "119\n",
      "122\n",
      "124\n",
      "127\n",
      "128\n",
      "130\n",
      "131\n",
      "132\n",
      "133\n",
      "134\n",
      "135\n",
      "136\n",
      "137\n",
      "138\n",
      "140\n",
      "143\n",
      "145\n",
      "148\n",
      "151\n",
      "154\n",
      "156\n",
      "159\n",
      "161\n",
      "162\n",
      "163\n",
      "164\n",
      "165\n",
      "166\n",
      "167\n",
      "168\n",
      "169\n",
      "171\n",
      "173\n",
      "176\n",
      "179\n",
      "181\n",
      "184\n",
      "187\n",
      "189\n",
      "191\n",
      "192\n",
      "193\n",
      "194\n",
      "195\n",
      "196\n",
      "197\n",
      "199\n",
      "201\n",
      "204\n",
      "207\n",
      "209\n",
      "213\n",
      "215\n",
      "217\n",
      "219\n",
      "220\n",
      "222\n",
      "223\n",
      "224\n",
      "225\n",
      "226\n",
      "225\n",
      "224\n",
      "223\n",
      "222\n",
      "221\n",
      "220\n",
      "219\n",
      "218\n",
      "217\n",
      "216\n",
      "215\n",
      "214\n",
      "213\n",
      "212\n",
      "211\n",
      "210\n",
      "209\n",
      "208\n",
      "207\n",
      "206\n",
      "205\n",
      "204\n",
      "203\n",
      "202\n",
      "201\n",
      "200\n",
      "199\n",
      "198\n",
      "197\n",
      "196\n",
      "195\n",
      "194\n",
      "193\n"
     ]
    },
    {
     "data": {
      "text/plain": [
       "-1"
      ]
     },
     "execution_count": 145,
     "metadata": {},
     "output_type": "execute_result"
    }
   ],
   "source": [
    "head = cv2.imread('screw_head6.jpg',0)\n",
    "print(head.shape)\n",
    "cv2.imshow('head',head)\n",
    "cv2.waitKey(0)\n",
    "\n",
    "head2 = head.copy()\n",
    "\n",
    "cv2.namedWindow('Shape Detect')\n",
    "cv2.createTrackbar('Thresh1','Shape Detect',0,255,nothing)\n",
    "cv2.createTrackbar('Thresh2','Shape Detect',0,255,nothing)\n",
    "t3 = t4 = 0\n",
    "while(1):\n",
    "    #_,thresh1 = cv2.threshold(head,t3,t4,cv2.THRESH_TOZERO)\n",
    "    head_canny = cv2.Canny(head2,t3,t4)\n",
    "    cv2.imshow('Shape Detect',head_canny)\n",
    "    z = cv2.waitKey(1) & 0xFF\n",
    "    if z == 27:#Esc Key for terminating\n",
    "        break\n",
    "    t3 = cv2.getTrackbarPos('Thresh1','Shape Detect')\n",
    "    t4 = cv2.getTrackbarPos('Thresh2','Shape Detect')\n",
    "cv2.destroyAllWindows()\n",
    "\n",
    "fin_img = head_canny.copy()\n",
    "cv2.imshow('cannied',fin_img)\n",
    "cv2.waitKey(0)"
   ]
  },
  {
   "cell_type": "code",
   "execution_count": 146,
   "metadata": {},
   "outputs": [
    {
     "name": "stdout",
     "output_type": "stream",
     "text": [
      "(356, 89)\n",
      "(357, 545)\n"
     ]
    }
   ],
   "source": [
    "for y in range(fin_img.shape[1]):\n",
    "    for x in range(fin_img.shape[0]):\n",
    "        if (fin_img[x,y])==255:\n",
    "            min_x,min_y = x,y\n",
    "            break\n",
    "        \n",
    "for y in range(fin_img.shape[1]-1,-1,-1):\n",
    "    for x in range(fin_img.shape[0]):\n",
    "        if (fin_img[x,y])==255:\n",
    "            max_x,max_y = x,y\n",
    "            break\n",
    "    \n",
    "print((max_x,max_y))\n",
    "print((min_x,min_y))"
   ]
  },
  {
   "cell_type": "code",
   "execution_count": 149,
   "metadata": {},
   "outputs": [
    {
     "name": "stdout",
     "output_type": "stream",
     "text": [
      "(689, 677)\n"
     ]
    }
   ],
   "source": [
    "cop = fin_img.copy()\n",
    "cv2.line(cop,(min_y,min_x),(max_y,max_x),200,1)\n",
    "cv2.imshow('lined',cop)\n",
    "cv2.waitKey(0)\n",
    "print(cop.shape)"
   ]
  },
  {
   "cell_type": "code",
   "execution_count": 148,
   "metadata": {},
   "outputs": [
    {
     "name": "stdout",
     "output_type": "stream",
     "text": [
      "Across corner of the screw:12.000028854997623 mm\n"
     ]
    }
   ],
   "source": [
    "#456 pixels = 12mm\n",
    "ppm = 12/456 \n",
    "print(\"Across corner of the screw:\"+str(m.sqrt((max_x-min_x)**2 + (max_y-min_y)**2) * ppm)+\" mm\")"
   ]
  },
  {
   "cell_type": "code",
   "execution_count": 150,
   "metadata": {},
   "outputs": [
    {
     "name": "stdout",
     "output_type": "stream",
     "text": [
      "563\n",
      "(689, 677)\n",
      "159\n",
      "Across flat of screw:10.605263157894736 mm\n"
     ]
    }
   ],
   "source": [
    "for i in range(cop.shape[0]-1,-1,-1):\n",
    "    if 255 in cop[i,:]:\n",
    "        i1 = i\n",
    "        break\n",
    "print(i1)\n",
    "img15 = cop.copy()\n",
    "print(img15.shape)\n",
    "lines = []\n",
    "for j in range(img15.shape[1]):\n",
    "    if img15[i1,j] == 255:\n",
    "        lines.append((i1,j))\n",
    "while len(lines)<=3:\n",
    "    lines = []\n",
    "    i1 = i1+1\n",
    "    for j in range(img15.shape[1]):\n",
    "        if img15[i1,j] == 255:\n",
    "            lines.append((i1,j))\n",
    "for coord in lines:\n",
    "    cv2.circle(img15,(coord[1],coord[0]),5,200,1)\n",
    "cv2.imshow('image',img15)\n",
    "cv2.waitKey(0)\n",
    "\n",
    "for i in range(cop.shape[0]):\n",
    "    if 255 in cop[i,:]:\n",
    "        i2 = i\n",
    "        break\n",
    "print(i2)\n",
    "img16 = cop.copy()\n",
    "lines2 = []\n",
    "for j in range(img16.shape[1]):\n",
    "    if img16[i2,j] == 255:\n",
    "        lines2.append((i2,j))\n",
    "while len(lines2)<=3:\n",
    "    lines2 = []\n",
    "    i2 = i2+1\n",
    "    for j in range(img16.shape[1]):\n",
    "        if img16[i2,j] == 255:\n",
    "            lines2.append((i2,j))\n",
    "    \n",
    "for coord in lines2:\n",
    "    cv2.circle(img16,(coord[1],coord[0]),5,200,1)\n",
    "cv2.imshow('image',img16)\n",
    "cv2.waitKey(0)\n",
    "\n",
    "across_flat_list = []\n",
    "\n",
    "Y1,X1 = lines[0][0] , lines[0][1]\n",
    "Y2,X2 = lines[-1][0] , lines[-1][1]\n",
    "for coord in lines2:\n",
    "    Y3,X3 = coord[0],coord[1]\n",
    "    pd = (((X2-X1)*(Y1-Y3)) - ((X1-X3)*(Y2-Y1)))/m.sqrt((X2-X1)**2 + (Y2-Y1)**2)\n",
    "    across_flat_list.append(abs(pd))\n",
    "    \n",
    "mean_across_flat = sum(across_flat_list)/len(across_flat_list)\n",
    "print(\"Across flat of screw:\"+str(mean_across_flat*ppm)+\" mm\")"
   ]
  },
  {
   "cell_type": "code",
   "execution_count": 152,
   "metadata": {},
   "outputs": [
    {
     "data": {
      "text/plain": [
       "-1"
      ]
     },
     "execution_count": 152,
     "metadata": {},
     "output_type": "execute_result"
    }
   ],
   "source": [
    "cv2.imshow('canny',canny)\n",
    "cv2.waitKey(0)"
   ]
  }
 ],
 "metadata": {
  "kernelspec": {
   "display_name": "Python 3",
   "language": "python",
   "name": "python3"
  },
  "language_info": {
   "codemirror_mode": {
    "name": "ipython",
    "version": 3
   },
   "file_extension": ".py",
   "mimetype": "text/x-python",
   "name": "python",
   "nbconvert_exporter": "python",
   "pygments_lexer": "ipython3",
   "version": "3.7.3"
  }
 },
 "nbformat": 4,
 "nbformat_minor": 2
}
