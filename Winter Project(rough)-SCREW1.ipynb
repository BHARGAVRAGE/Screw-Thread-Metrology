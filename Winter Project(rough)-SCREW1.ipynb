{
 "cells": [
  {
   "cell_type": "code",
   "execution_count": 5,
   "metadata": {},
   "outputs": [],
   "source": [
    "import cv2\n",
    "import numpy as np\n",
    "import math as m\n",
    "import matplotlib.pyplot as plt\n",
    "%matplotlib inline"
   ]
  },
  {
   "cell_type": "code",
   "execution_count": 6,
   "metadata": {},
   "outputs": [],
   "source": [
    "def nothing(x):\n",
    "    print(x)"
   ]
  },
  {
   "cell_type": "code",
   "execution_count": 7,
   "metadata": {},
   "outputs": [
    {
     "name": "stdout",
     "output_type": "stream",
     "text": [
      "1\n",
      "4\n",
      "8\n",
      "13\n",
      "24\n",
      "33\n",
      "44\n",
      "56\n",
      "67\n",
      "77\n",
      "87\n",
      "95\n",
      "101\n",
      "108\n",
      "111\n",
      "115\n",
      "117\n",
      "119\n",
      "121\n",
      "122\n",
      "123\n",
      "124\n",
      "125\n",
      "126\n",
      "127\n",
      "128\n",
      "131\n",
      "135\n",
      "140\n",
      "152\n",
      "164\n",
      "177\n",
      "191\n",
      "206\n",
      "218\n",
      "229\n",
      "238\n",
      "244\n",
      "249\n",
      "253\n",
      "255\n"
     ]
    }
   ],
   "source": [
    "src_img = cv2.imread('screw8.jpg',1)\n",
    "cv2.imshow('read',src_img)\n",
    "cv2.waitKey(0)\n",
    "gauss = cv2.GaussianBlur(src_img,(5,5),6)\n",
    "gray = cv2.cvtColor(gauss,cv2.COLOR_BGR2GRAY)\n",
    "cv2.imshow('img',gray)\n",
    "cv2.waitKey(0)\n",
    "ret,thres = cv2.threshold(gray,127,255,cv2.THRESH_BINARY)\n",
    "#thres = cv2.cvtColor(thres,cv2.COLOR_B)\n",
    "cv2.imshow('thresh',thres)\n",
    "cv2.waitKey(0)\n",
    "cv2.namedWindow('Edge Detect')\n",
    "cv2.createTrackbar('Thresh1','Edge Detect',0,255,nothing)\n",
    "cv2.createTrackbar('Thresh2','Edge Detect',0,255,nothing)\n",
    "t1 = t2 = 0\n",
    "while(1):\n",
    "    canny = cv2.Canny(gray,t1,t2)\n",
    "    cv2.imshow('Edge Detect',canny)\n",
    "    k = cv2.waitKey(1) & 0xFF\n",
    "    if k == 27:#Esc Key for terminating\n",
    "        break\n",
    "    t1 = cv2.getTrackbarPos('Thresh1','Edge Detect')\n",
    "    t2 = cv2.getTrackbarPos('Thresh2','Edge Detect')\n",
    "cv2.destroyAllWindows()   "
   ]
  },
  {
   "cell_type": "code",
   "execution_count": 4,
   "metadata": {},
   "outputs": [
    {
     "data": {
      "text/plain": [
       "-1"
      ]
     },
     "execution_count": 4,
     "metadata": {},
     "output_type": "execute_result"
    }
   ],
   "source": [
    "cv2.imshow('canny',canny)\n",
    "cv2.waitKey(0)"
   ]
  },
  {
   "cell_type": "code",
   "execution_count": 5,
   "metadata": {},
   "outputs": [
    {
     "name": "stdout",
     "output_type": "stream",
     "text": [
      "(643, 300)\n"
     ]
    }
   ],
   "source": [
    "img2 = canny.copy()\n",
    "img2 = img2[:,100:400]\n",
    "#img2 = cv2.cvtColor(img2,cv2.COLOR_BGR2GRAY)\n",
    "cv2.imshow('cropped',img2)\n",
    "cv2.waitKey(0)\n",
    "print(img2.shape)"
   ]
  },
  {
   "cell_type": "code",
   "execution_count": 6,
   "metadata": {},
   "outputs": [
    {
     "data": {
      "text/plain": [
       "-1"
      ]
     },
     "execution_count": 6,
     "metadata": {},
     "output_type": "execute_result"
    }
   ],
   "source": [
    "img3 = img2.copy()\n",
    "a = np.zeros((img3.shape[0],img3.shape[1]))\n",
    "for c in range(img3.shape[1]):\n",
    "    for r in range(img3.shape[0]):\n",
    "        if img3[r,c]==255:\n",
    "            a[r,c]=255\n",
    "            break\n",
    "cv2.imshow('Upper Pixels', a)\n",
    "cv2.waitKey(0)\n",
    "for c in range(img3.shape[1]-1,0,-1):\n",
    "    for r in range(img3.shape[0]-1,0,-1):\n",
    "        if img3[r,c]==255:\n",
    "            a[r,c]=255\n",
    "            break\n",
    "cv2.imshow('Lower pixels', a)\n",
    "cv2.waitKey(0)"
   ]
  },
  {
   "cell_type": "code",
   "execution_count": 7,
   "metadata": {},
   "outputs": [
    {
     "name": "stdout",
     "output_type": "stream",
     "text": [
      "209\n",
      "475\n",
      "342\n"
     ]
    }
   ],
   "source": [
    "img4 = a.copy()\n",
    "for r in range(img4.shape[0]):\n",
    "    if 255 in img4[r,:]:\n",
    "        min2 = r\n",
    "        break\n",
    "for r in range(img4.shape[0]-1,-1,-1):\n",
    "    if 255 in img4[r,:]:\n",
    "        max2 = r\n",
    "        break\n",
    "print(min2)\n",
    "print(max2)\n",
    "mid = int((min2+max2)/2)\n",
    "print(mid)"
   ]
  },
  {
   "cell_type": "code",
   "execution_count": 8,
   "metadata": {},
   "outputs": [
    {
     "data": {
      "text/plain": [
       "-1"
      ]
     },
     "execution_count": 8,
     "metadata": {},
     "output_type": "execute_result"
    }
   ],
   "source": [
    "img4[int(mid),:] = 255\n",
    "cv2.imshow('midline',img4)\n",
    "cv2.waitKey(0)"
   ]
  },
  {
   "cell_type": "code",
   "execution_count": 9,
   "metadata": {},
   "outputs": [
    {
     "name": "stdout",
     "output_type": "stream",
     "text": [
      "[(221, 0), (222, 1), (223, 2), (224, 3), (225, 4), (226, 5), (228, 6), (229, 7), (231, 8), (232, 9), (234, 10), (235, 11), (237, 12), (238, 13), (239, 14), (240, 15), (241, 16), (242, 17), (242, 18), (242, 19), (242, 20), (242, 21), (242, 22), (242, 23), (241, 24), (240, 25), (239, 26), (237, 27), (236, 28), (234, 29), (233, 30), (231, 31), (229, 32), (227, 33), (225, 34), (224, 35), (222, 36), (221, 37), (220, 38), (219, 39), (219, 40), (219, 41), (219, 42), (219, 43), (219, 44), (219, 45), (219, 46), (219, 47), (220, 48), (220, 49), (220, 50), (220, 51), (221, 52), (222, 53), (223, 54), (224, 55), (226, 56), (227, 57), (229, 58), (230, 59), (232, 60), (233, 61), (235, 62), (236, 63), (238, 64), (239, 65), (239, 66), (240, 67), (240, 68), (240, 69), (240, 70), (240, 71), (239, 72), (239, 73), (238, 74), (237, 75), (236, 76), (234, 77), (233, 78), (231, 79), (229, 80), (227, 81), (225, 82), (223, 83), (222, 84), (220, 85), (219, 86), (218, 87), (217, 88), (217, 89), (217, 90), (217, 91), (217, 92), (217, 93), (217, 94), (217, 95), (217, 96), (218, 97), (218, 98), (218, 99), (218, 100), (219, 101), (219, 102), (220, 103), (222, 104), (223, 105), (224, 106), (226, 107), (227, 108), (229, 109), (231, 110), (232, 111), (233, 112), (235, 113), (236, 114), (237, 115), (237, 116), (238, 117), (238, 118), (238, 119), (238, 120), (237, 121), (237, 122), (236, 123), (235, 124), (234, 125), (233, 126), (231, 127), (229, 128), (227, 129), (225, 130), (223, 131), (222, 132), (219, 133), (218, 134), (217, 135), (216, 136), (215, 137), (215, 138), (215, 139), (215, 140), (215, 141), (215, 142), (215, 143), (215, 144), (215, 145), (215, 146), (215, 147), (215, 149), (216, 150), (217, 151), (218, 152), (220, 153), (221, 154), (222, 155), (224, 156), (225, 157), (227, 158), (228, 159), (230, 160), (232, 161), (233, 162), (234, 163), (235, 164), (235, 165), (236, 166), (236, 167), (236, 168), (235, 169), (235, 170), (235, 171), (234, 172), (232, 173), (231, 174), (229, 175), (228, 176), (226, 177), (224, 178), (222, 179), (219, 180), (217, 181), (216, 182), (215, 183), (214, 184), (214, 185), (213, 186), (213, 187), (213, 188), (213, 189), (213, 190), (213, 191), (213, 192), (213, 193), (213, 194), (213, 195), (213, 196), (214, 197), (214, 198), (214, 199), (215, 200), (216, 201), (218, 202), (219, 203), (221, 204), (222, 205), (223, 206), (225, 207), (226, 208), (228, 209), (229, 210), (230, 211), (231, 212), (232, 213), (233, 214), (233, 215), (233, 216), (233, 217), (233, 218), (232, 219), (231, 220), (230, 221), (229, 222), (227, 223), (226, 224), (224, 225), (222, 226), (220, 227), (218, 228), (217, 229), (215, 230), (214, 231), (213, 232), (212, 233), (212, 234), (212, 235), (211, 236), (211, 237), (211, 238), (211, 239), (211, 240), (211, 241), (210, 242), (210, 243), (211, 244), (211, 245), (211, 246), (211, 247), (212, 248), (213, 249), (214, 250), (216, 251), (217, 252), (219, 253), (220, 254), (222, 255), (223, 256), (225, 257), (227, 258), (228, 259), (229, 260), (230, 261), (230, 262), (231, 263), (231, 264), (231, 265), (231, 266), (230, 267), (230, 268), (229, 269), (227, 270), (225, 271), (223, 272), (221, 273), (220, 274), (218, 275), (216, 276), (214, 277), (212, 278), (211, 279), (210, 280), (210, 281), (210, 282), (209, 283), (209, 284), (209, 285), (209, 286), (210, 287), (209, 288), (209, 289), (209, 290), (209, 291), (209, 292), (209, 293), (209, 294), (209, 295), (210, 296), (211, 297), (212, 298), (213, 299)]\n"
     ]
    }
   ],
   "source": [
    "upper = []\n",
    "for col in range(img4.shape[1]):\n",
    "    for row in range(mid):\n",
    "        if int(img4[row,col]) == 255:\n",
    "            tup = (row,col)\n",
    "            upper.append(tup)\n",
    "            tup = ()\n",
    "\n",
    "print(upper)  "
   ]
  },
  {
   "cell_type": "code",
   "execution_count": 10,
   "metadata": {},
   "outputs": [
    {
     "name": "stdout",
     "output_type": "stream",
     "text": [
      "[(438, 299), (438, 298), (437, 297), (438, 296), (438, 295), (439, 294), (439, 293), (440, 292), (441, 291), (442, 290), (443, 289), (445, 288), (447, 287), (448, 286), (450, 285), (452, 284), (454, 283), (456, 282), (457, 281), (459, 280), (459, 279), (460, 278), (460, 277), (460, 276), (460, 275), (460, 274), (460, 273), (460, 272), (460, 271), (460, 270), (460, 269), (460, 268), (460, 267), (460, 266), (459, 265), (458, 264), (457, 263), (456, 262), (455, 261), (453, 260), (451, 259), (449, 258), (448, 257), (446, 256), (445, 255), (444, 254), (443, 253), (442, 252), (442, 251), (441, 250), (441, 249), (440, 248), (442, 247), (442, 246), (442, 245), (443, 244), (444, 243), (445, 242), (446, 241), (448, 240), (450, 239), (451, 238), (453, 237), (455, 236), (456, 235), (458, 234), (460, 233), (461, 232), (462, 231), (463, 230), (463, 229), (463, 228), (463, 227), (463, 226), (463, 225), (463, 224), (463, 223), (463, 222), (463, 221), (463, 220), (463, 219), (462, 218), (462, 217), (461, 216), (460, 215), (459, 214), (457, 213), (456, 212), (455, 211), (453, 210), (451, 209), (450, 208), (448, 207), (447, 206), (446, 205), (445, 204), (444, 203), (443, 202), (443, 201), (443, 200), (443, 199), (444, 198), (444, 197), (445, 196), (446, 195), (447, 194), (448, 193), (450, 192), (452, 191), (455, 190), (457, 189), (459, 188), (460, 187), (462, 186), (463, 185), (464, 184), (465, 183), (465, 182), (466, 181), (466, 180), (466, 179), (466, 178), (466, 177), (466, 176), (466, 175), (466, 174), (466, 173), (466, 172), (466, 171), (466, 170), (465, 169), (465, 168), (464, 167), (463, 166), (461, 165), (460, 164), (458, 163), (456, 162), (455, 161), (453, 160), (452, 159), (450, 158), (449, 157), (448, 156), (447, 155), (446, 154), (446, 153), (445, 152), (446, 151), (446, 150), (446, 149), (446, 148), (447, 147), (448, 146), (449, 145), (451, 144), (452, 143), (454, 142), (456, 141), (459, 140), (461, 139), (463, 138), (465, 137), (466, 136), (467, 135), (468, 134), (468, 133), (468, 132), (469, 131), (469, 130), (469, 129), (469, 128), (469, 127), (469, 126), (469, 125), (469, 124), (468, 123), (469, 122), (468, 121), (467, 120), (466, 119), (465, 118), (464, 117), (463, 116), (461, 115), (460, 114), (459, 113), (457, 112), (456, 111), (454, 110), (453, 109), (451, 108), (450, 107), (450, 106), (449, 105), (448, 104), (448, 103), (448, 102), (449, 101), (449, 100), (449, 99), (450, 98), (451, 97), (452, 96), (453, 95), (454, 94), (456, 93), (458, 92), (460, 91), (462, 90), (464, 89), (466, 88), (467, 87), (468, 86), (470, 85), (470, 84), (471, 83), (471, 82), (471, 81), (471, 80), (471, 79), (471, 78), (471, 77), (471, 76), (471, 75), (471, 74), (471, 73), (471, 72), (470, 71), (469, 70), (469, 69), (467, 68), (466, 67), (465, 66), (464, 65), (462, 64), (461, 63), (459, 62), (458, 61), (457, 60), (455, 59), (454, 58), (452, 57), (451, 56), (451, 55), (450, 54), (450, 53), (450, 52), (451, 51), (451, 50), (451, 49), (452, 48), (454, 47), (455, 46), (457, 45), (459, 44), (461, 43), (463, 42), (465, 41), (466, 40), (468, 39), (469, 38), (471, 37), (472, 36), (473, 35), (474, 34), (474, 33), (474, 32), (474, 31), (474, 30), (474, 29), (475, 28), (475, 27), (475, 26), (475, 25), (474, 24), (474, 23), (474, 22), (473, 21), (472, 20), (471, 19), (470, 18), (469, 17), (467, 16), (466, 15), (465, 14), (463, 13), (462, 12), (460, 11), (459, 10), (458, 9), (456, 8), (455, 7), (454, 6), (453, 5), (453, 4), (453, 3), (454, 2), (454, 1)]\n"
     ]
    }
   ],
   "source": [
    "lower = []\n",
    "for col in range(img4.shape[1]-1,-1,-1):\n",
    "    for row in range(mid+1,img4.shape[0]):\n",
    "        if int(img4[row,col]) == 255:\n",
    "            tup = (row,col)\n",
    "            lower.append(tup)\n",
    "            tup = ()\n",
    "\n",
    "print(lower)  "
   ]
  },
  {
   "cell_type": "code",
   "execution_count": 11,
   "metadata": {},
   "outputs": [
    {
     "name": "stdout",
     "output_type": "stream",
     "text": [
      "[(0, 221, 0), (0, 222, 1), (0, 223, 2), (0, 224, 3), (0, 225, 4), (0, 226, 5), (0, 228, 6), (0, 229, 7), (0, 231, 8), (0, 232, 9), (0, 234, 10), (0, 235, 11), (0, 237, 12), (0, 238, 13), (0, 239, 14), (0, 240, 15), (0, 241, 16), (1, 242, 23), (1, 241, 24), (1, 240, 25), (1, 239, 26), (1, 237, 27), (1, 236, 28), (1, 234, 29), (1, 233, 30), (1, 231, 31), (1, 229, 32), (1, 227, 33), (1, 225, 34), (1, 224, 35), (1, 222, 36), (1, 221, 37), (1, 220, 38), (0, 219, 47), (0, 220, 51), (0, 221, 52), (0, 222, 53), (0, 223, 54), (0, 224, 55), (0, 226, 56), (0, 227, 57), (0, 229, 58), (0, 230, 59), (0, 232, 60), (0, 233, 61), (0, 235, 62), (0, 236, 63), (0, 238, 64), (0, 239, 66), (1, 240, 71), (1, 239, 73), (1, 238, 74), (1, 237, 75), (1, 236, 76), (1, 234, 77), (1, 233, 78), (1, 231, 79), (1, 229, 80), (1, 227, 81), (1, 225, 82), (1, 223, 83), (1, 222, 84), (1, 220, 85), (1, 219, 86), (1, 218, 87), (0, 217, 96), (0, 218, 100), (0, 219, 102), (0, 220, 103), (0, 222, 104), (0, 223, 105), (0, 224, 106), (0, 226, 107), (0, 227, 108), (0, 229, 109), (0, 231, 110), (0, 232, 111), (0, 233, 112), (0, 235, 113), (0, 236, 114), (0, 237, 116), (1, 238, 120), (1, 237, 122), (1, 236, 123), (1, 235, 124), (1, 234, 125), (1, 233, 126), (1, 231, 127), (1, 229, 128), (1, 227, 129), (1, 225, 130), (1, 223, 131), (1, 222, 132), (1, 219, 133), (1, 218, 134), (1, 217, 135), (1, 216, 136), (0, 215, 149), (0, 216, 150), (0, 217, 151), (0, 218, 152), (0, 220, 153), (0, 221, 154), (0, 222, 155), (0, 224, 156), (0, 225, 157), (0, 227, 158), (0, 228, 159), (0, 230, 160), (0, 232, 161), (0, 233, 162), (0, 234, 163), (0, 235, 165), (1, 236, 168), (1, 235, 171), (1, 234, 172), (1, 232, 173), (1, 231, 174), (1, 229, 175), (1, 228, 176), (1, 226, 177), (1, 224, 178), (1, 222, 179), (1, 219, 180), (1, 217, 181), (1, 216, 182), (1, 215, 183), (1, 214, 185), (0, 213, 196), (0, 214, 199), (0, 215, 200), (0, 216, 201), (0, 218, 202), (0, 219, 203), (0, 221, 204), (0, 222, 205), (0, 223, 206), (0, 225, 207), (0, 226, 208), (0, 228, 209), (0, 229, 210), (0, 230, 211), (0, 231, 212), (0, 232, 213), (1, 233, 218), (1, 232, 219), (1, 231, 220), (1, 230, 221), (1, 229, 222), (1, 227, 223), (1, 226, 224), (1, 224, 225), (1, 222, 226), (1, 220, 227), (1, 218, 228), (1, 217, 229), (1, 215, 230), (1, 214, 231), (1, 213, 232), (1, 212, 235), (1, 211, 241), (0, 210, 243), (0, 211, 247), (0, 212, 248), (0, 213, 249), (0, 214, 250), (0, 216, 251), (0, 217, 252), (0, 219, 253), (0, 220, 254), (0, 222, 255), (0, 223, 256), (0, 225, 257), (0, 227, 258), (0, 228, 259), (0, 229, 260), (0, 230, 262), (1, 231, 266), (1, 230, 268), (1, 229, 269), (1, 227, 270), (1, 225, 271), (1, 223, 272), (1, 221, 273), (1, 220, 274), (1, 218, 275), (1, 216, 276), (1, 214, 277), (1, 212, 278), (1, 211, 279), (1, 210, 282), (0, 209, 286), (1, 210, 287), (0, 209, 295), (0, 210, 296), (0, 211, 297), (0, 212, 298)]\n"
     ]
    }
   ],
   "source": [
    "direction_upper = []\n",
    "for x in range(len(upper)-1):\n",
    "    if upper[x][0] > upper[x+1][0]:\n",
    "        tup = (1,upper[x][0],upper[x][1])\n",
    "        direction_upper.append(tup)\n",
    "        tup = ()\n",
    "    elif upper[x][0] < upper[x+1][0]:\n",
    "        tup = (0,upper[x][0],upper[x][1])\n",
    "        direction_upper.append(tup)\n",
    "        tup = ()\n",
    "    else:\n",
    "        continue\n",
    "\n",
    "print(direction_upper)"
   ]
  },
  {
   "cell_type": "code",
   "execution_count": 12,
   "metadata": {},
   "outputs": [],
   "source": [
    "crest_upper = []\n",
    "root_upper = []\n",
    "for x in range(len(direction_upper)-4):\n",
    "    if direction_upper[x][0] == 1 and direction_upper[x+1][0] == 0 and direction_upper[x+2][0] == 0 and direction_upper[x+3][0] == 0 and direction_upper[x+4][0] == 0:\n",
    "        tup = (direction_upper[x][1],direction_upper[x][2])\n",
    "        crest_upper.append(tup)\n",
    "        tup = ()\n",
    "    elif direction_upper[x][0] == 0 and direction_upper[x+1][0] == 1 and direction_upper[x+2][0] == 1:\n",
    "        tup = (direction_upper[x][1],direction_upper[x][2])\n",
    "        root_upper.append(tup)\n",
    "        tup = ()"
   ]
  },
  {
   "cell_type": "code",
   "execution_count": 13,
   "metadata": {},
   "outputs": [
    {
     "name": "stdout",
     "output_type": "stream",
     "text": [
      "[(220, 38), (218, 87), (216, 136), (214, 185), (211, 241), (210, 287)]\n",
      "[(241, 16), (239, 66), (237, 116), (235, 165), (232, 213), (230, 262)]\n"
     ]
    }
   ],
   "source": [
    "print(crest_upper)\n",
    "print(root_upper)"
   ]
  },
  {
   "cell_type": "code",
   "execution_count": 14,
   "metadata": {},
   "outputs": [
    {
     "data": {
      "text/plain": [
       "-1"
      ]
     },
     "execution_count": 14,
     "metadata": {},
     "output_type": "execute_result"
    }
   ],
   "source": [
    "img5 = img4.copy()\n",
    "for coord in crest_upper:\n",
    "    cv2.circle(img5,(coord[1],coord[0]),5,155,1)\n",
    "cv2.imshow('crestpoints',img5)\n",
    "cv2.waitKey(0)"
   ]
  },
  {
   "cell_type": "code",
   "execution_count": 15,
   "metadata": {},
   "outputs": [
    {
     "data": {
      "text/plain": [
       "-1"
      ]
     },
     "execution_count": 15,
     "metadata": {},
     "output_type": "execute_result"
    }
   ],
   "source": [
    "img6 = img4.copy()\n",
    "for coord in root_upper:\n",
    "    cv2.circle(img6,(coord[1],coord[0]),5,155,1)\n",
    "cv2.imshow('rootpoints',img6)\n",
    "cv2.waitKey(0)"
   ]
  },
  {
   "cell_type": "code",
   "execution_count": 16,
   "metadata": {},
   "outputs": [],
   "source": [
    "(Y1,X1) = crest_upper[0]\n",
    "(Y2,X2) = crest_upper[-1]"
   ]
  },
  {
   "cell_type": "code",
   "execution_count": 17,
   "metadata": {},
   "outputs": [],
   "source": [
    "upper_crest_group = []\n",
    "upper_root_group = []\n",
    "for coord in upper:\n",
    "    (Y3,X3) = coord\n",
    "    pd = (((X2-X1)*(Y1-Y3)) - ((X1-X3)*(Y2-Y1)))/m.sqrt((X2-X1)**2 + (Y2-Y1)**2)\n",
    "    if pd<1 and pd>-1:\n",
    "        tup = (Y3,X3)\n",
    "        upper_crest_group.append(tup)\n",
    "        tup = ()\n",
    "\n",
    "(Y1,X1) = root_upper[0]\n",
    "(Y2,X2) = root_upper[-1]\n",
    "for coord in upper:\n",
    "    (Y3,X3) = coord\n",
    "    pd = (((X2-X1)*(Y1-Y3)) - ((X1-X3)*(Y2-Y1)))/m.sqrt((X2-X1)**2 + (Y2-Y1)**2)\n",
    "    if pd<1 and pd>-1:\n",
    "        tup = (Y3,X3)\n",
    "        upper_root_group.append(tup)\n",
    "        tup = ()"
   ]
  },
  {
   "cell_type": "code",
   "execution_count": 18,
   "metadata": {},
   "outputs": [
    {
     "data": {
      "text/plain": [
       "-1"
      ]
     },
     "execution_count": 18,
     "metadata": {},
     "output_type": "execute_result"
    }
   ],
   "source": [
    "img7 = img4.copy()\n",
    "for coord in upper_crest_group:\n",
    "    cv2.circle(img7,(coord[1],coord[0]),5,155,1)\n",
    "cv2.imshow('crestpoints',img7)\n",
    "cv2.waitKey(0)\n",
    "\n",
    "img8 = img4.copy()\n",
    "for coord in upper_root_group:\n",
    "    cv2.circle(img8,(coord[1],coord[0]),5,155,1)\n",
    "cv2.imshow('rootpoints',img8)\n",
    "cv2.waitKey(0)"
   ]
  },
  {
   "cell_type": "code",
   "execution_count": 19,
   "metadata": {
    "scrolled": true
   },
   "outputs": [
    {
     "name": "stdout",
     "output_type": "stream",
     "text": [
      "88\n",
      "34\n"
     ]
    }
   ],
   "source": [
    "print(len(upper_crest_group))\n",
    "print(len(upper_root_group))"
   ]
  },
  {
   "cell_type": "code",
   "execution_count": 20,
   "metadata": {},
   "outputs": [],
   "source": [
    "group = 1\n",
    "upper_crest_clustered = []\n",
    "upper_crest_clustered.append((upper_crest_group[0][0],upper_crest_group[0][1],group))\n",
    "for i in range(len(upper_crest_group)-1):\n",
    "    (Y1,X1) = upper_crest_group[i]\n",
    "    (Y2,X2) = upper_crest_group[i+1]\n",
    "    pd = m.sqrt((X2-X1)**2 + (Y2-Y1)**2)\n",
    "    if pd<7:\n",
    "        upper_crest_clustered.append((Y2,X2,group))\n",
    "    else:\n",
    "        group = group+1\n",
    "        upper_crest_clustered.append((Y2,X2,group))"
   ]
  },
  {
   "cell_type": "code",
   "execution_count": 21,
   "metadata": {},
   "outputs": [
    {
     "data": {
      "text/plain": [
       "[1, 2, 3, 4, 5, 6, 7]"
      ]
     },
     "execution_count": 21,
     "metadata": {},
     "output_type": "execute_result"
    }
   ],
   "source": [
    "list2 = []\n",
    "for i in range(len(upper_crest_clustered)):\n",
    "    list2.append(upper_crest_clustered[i][2])\n",
    "list2 = list(set(list2))\n",
    "list2"
   ]
  },
  {
   "cell_type": "code",
   "execution_count": 22,
   "metadata": {},
   "outputs": [
    {
     "name": "stdout",
     "output_type": "stream",
     "text": [
      "[(222, 1, 1), (219, 44, 2), (217, 93, 3), (215, 143, 4), (213, 192, 5), (211, 240, 6), (209, 290, 7)]\n"
     ]
    }
   ],
   "source": [
    "list3 = []\n",
    "final_upper_crests = []\n",
    "for i in list2:\n",
    "    for coord in upper_crest_clustered:\n",
    "        if coord[2] == i:\n",
    "            list3.append(coord)\n",
    "    final_upper_crests.append(list3[int(len(list3)/2)])\n",
    "    list3 = []\n",
    "print(final_upper_crests)    "
   ]
  },
  {
   "cell_type": "code",
   "execution_count": 23,
   "metadata": {},
   "outputs": [
    {
     "data": {
      "text/plain": [
       "-1"
      ]
     },
     "execution_count": 23,
     "metadata": {},
     "output_type": "execute_result"
    }
   ],
   "source": [
    "img9 = img4.copy()\n",
    "for coord in final_upper_crests:\n",
    "    cv2.circle(img9,(coord[1],coord[0]),4,200,1)\n",
    "cv2.imshow('new_crests',img9)\n",
    "cv2.waitKey(0)"
   ]
  },
  {
   "cell_type": "code",
   "execution_count": 24,
   "metadata": {},
   "outputs": [],
   "source": [
    "group1 = 1\n",
    "upper_root_clustered = []\n",
    "upper_root_clustered.append((upper_root_group[0][0],upper_root_group[0][1],group1))\n",
    "for i in range(len(upper_root_group)-1):\n",
    "    (Y1,X1) = upper_root_group[i]\n",
    "    (Y2,X2) = upper_root_group[i+1]\n",
    "    pd = m.sqrt((X2-X1)**2 + (Y2-Y1)**2)\n",
    "    if pd<9:\n",
    "        upper_root_clustered.append((Y2,X2,group1))\n",
    "    else:\n",
    "        group1 = group1+1\n",
    "        upper_root_clustered.append((Y2,X2,group1))"
   ]
  },
  {
   "cell_type": "code",
   "execution_count": 25,
   "metadata": {},
   "outputs": [
    {
     "data": {
      "text/plain": [
       "[1, 2, 3, 4, 5, 6]"
      ]
     },
     "execution_count": 25,
     "metadata": {},
     "output_type": "execute_result"
    }
   ],
   "source": [
    "list6 = []\n",
    "for i in range(len(upper_root_clustered)):\n",
    "    list6.append(upper_root_clustered[i][2])\n",
    "list6 = list(set(list6))\n",
    "list6"
   ]
  },
  {
   "cell_type": "code",
   "execution_count": 26,
   "metadata": {},
   "outputs": [
    {
     "name": "stdout",
     "output_type": "stream",
     "text": [
      "[(241, 24, 1), (239, 72, 2), (237, 121, 3), (235, 169, 4), (233, 216, 5), (230, 267, 6)]\n"
     ]
    }
   ],
   "source": [
    "list7 = []\n",
    "final_upper_roots = []\n",
    "for i in list6:\n",
    "    for coord in upper_root_clustered:\n",
    "        if coord[2] == i:\n",
    "            list7.append(coord)\n",
    "    final_upper_roots.append(list7[int(len(list7)/2)])\n",
    "    list7 = []\n",
    "print(final_upper_roots)    "
   ]
  },
  {
   "cell_type": "code",
   "execution_count": 27,
   "metadata": {},
   "outputs": [
    {
     "data": {
      "text/plain": [
       "-1"
      ]
     },
     "execution_count": 27,
     "metadata": {},
     "output_type": "execute_result"
    }
   ],
   "source": [
    "img10 = img4.copy()\n",
    "for coord in final_upper_crests:\n",
    "    cv2.circle(img10,(coord[1],coord[0]),4,200,1)\n",
    "\n",
    "for coord in final_upper_roots:\n",
    "    cv2.circle(img10,(coord[1],coord[0]),4,200,1)\n",
    "\n",
    "cv2.imshow('final_image',img10)\n",
    "cv2.waitKey(0)"
   ]
  },
  {
   "cell_type": "code",
   "execution_count": 28,
   "metadata": {},
   "outputs": [
    {
     "data": {
      "text/plain": [
       "-1"
      ]
     },
     "execution_count": 28,
     "metadata": {},
     "output_type": "execute_result"
    }
   ],
   "source": [
    "img11 = img9.copy()\n",
    "cv2.line(img11,(final_upper_crests[0][1],final_upper_crests[0][0]),(final_upper_crests[-1][1],final_upper_crests[-1][0]),200,1)\n",
    "cv2.line(img11,(final_upper_roots[0][1],final_upper_roots[0][0]),(final_upper_roots[-1][1],final_upper_roots[-1][0]),200,1)\n",
    "cv2.imshow('lines',img11)\n",
    "cv2.waitKey(0)"
   ]
  },
  {
   "cell_type": "code",
   "execution_count": 29,
   "metadata": {},
   "outputs": [
    {
     "name": "stdout",
     "output_type": "stream",
     "text": [
      "[(1, 438, 298), (0, 437, 297), (0, 438, 295), (0, 439, 293), (0, 440, 292), (0, 441, 291), (0, 442, 290), (0, 443, 289), (0, 445, 288), (0, 447, 287), (0, 448, 286), (0, 450, 285), (0, 452, 284), (0, 454, 283), (0, 456, 282), (0, 457, 281), (0, 459, 279), (1, 460, 266), (1, 459, 265), (1, 458, 264), (1, 457, 263), (1, 456, 262), (1, 455, 261), (1, 453, 260), (1, 451, 259), (1, 449, 258), (1, 448, 257), (1, 446, 256), (1, 445, 255), (1, 444, 254), (1, 443, 253), (1, 442, 251), (1, 441, 249), (0, 440, 248), (0, 442, 245), (0, 443, 244), (0, 444, 243), (0, 445, 242), (0, 446, 241), (0, 448, 240), (0, 450, 239), (0, 451, 238), (0, 453, 237), (0, 455, 236), (0, 456, 235), (0, 458, 234), (0, 460, 233), (0, 461, 232), (0, 462, 231), (1, 463, 219), (1, 462, 217), (1, 461, 216), (1, 460, 215), (1, 459, 214), (1, 457, 213), (1, 456, 212), (1, 455, 211), (1, 453, 210), (1, 451, 209), (1, 450, 208), (1, 448, 207), (1, 447, 206), (1, 446, 205), (1, 445, 204), (1, 444, 203), (0, 443, 199), (0, 444, 197), (0, 445, 196), (0, 446, 195), (0, 447, 194), (0, 448, 193), (0, 450, 192), (0, 452, 191), (0, 455, 190), (0, 457, 189), (0, 459, 188), (0, 460, 187), (0, 462, 186), (0, 463, 185), (0, 464, 184), (0, 465, 182), (1, 466, 170), (1, 465, 168), (1, 464, 167), (1, 463, 166), (1, 461, 165), (1, 460, 164), (1, 458, 163), (1, 456, 162), (1, 455, 161), (1, 453, 160), (1, 452, 159), (1, 450, 158), (1, 449, 157), (1, 448, 156), (1, 447, 155), (1, 446, 153), (0, 445, 152), (0, 446, 148), (0, 447, 147), (0, 448, 146), (0, 449, 145), (0, 451, 144), (0, 452, 143), (0, 454, 142), (0, 456, 141), (0, 459, 140), (0, 461, 139), (0, 463, 138), (0, 465, 137), (0, 466, 136), (0, 467, 135), (0, 468, 132), (1, 469, 124), (0, 468, 123), (1, 469, 122), (1, 468, 121), (1, 467, 120), (1, 466, 119), (1, 465, 118), (1, 464, 117), (1, 463, 116), (1, 461, 115), (1, 460, 114), (1, 459, 113), (1, 457, 112), (1, 456, 111), (1, 454, 110), (1, 453, 109), (1, 451, 108), (1, 450, 106), (1, 449, 105), (0, 448, 102), (0, 449, 99), (0, 450, 98), (0, 451, 97), (0, 452, 96), (0, 453, 95), (0, 454, 94), (0, 456, 93), (0, 458, 92), (0, 460, 91), (0, 462, 90), (0, 464, 89), (0, 466, 88), (0, 467, 87), (0, 468, 86), (0, 470, 84), (1, 471, 72), (1, 470, 71), (1, 469, 69), (1, 467, 68), (1, 466, 67), (1, 465, 66), (1, 464, 65), (1, 462, 64), (1, 461, 63), (1, 459, 62), (1, 458, 61), (1, 457, 60), (1, 455, 59), (1, 454, 58), (1, 452, 57), (1, 451, 55), (0, 450, 52), (0, 451, 49), (0, 452, 48), (0, 454, 47), (0, 455, 46), (0, 457, 45), (0, 459, 44), (0, 461, 43), (0, 463, 42), (0, 465, 41), (0, 466, 40), (0, 468, 39), (0, 469, 38), (0, 471, 37), (0, 472, 36), (0, 473, 35), (0, 474, 29), (1, 475, 25), (1, 474, 22), (1, 473, 21), (1, 472, 20), (1, 471, 19), (1, 470, 18), (1, 469, 17), (1, 467, 16), (1, 466, 15), (1, 465, 14), (1, 463, 13), (1, 462, 12), (1, 460, 11), (1, 459, 10), (1, 458, 9), (1, 456, 8), (1, 455, 7), (1, 454, 6), (0, 453, 3)]\n"
     ]
    }
   ],
   "source": [
    "direction_lower = []\n",
    "for x in range(len(lower)-1):\n",
    "    if lower[x][0] > lower[x+1][0]:\n",
    "        tup = (1,lower[x][0],lower[x][1])\n",
    "        direction_lower.append(tup)\n",
    "        tup = ()\n",
    "    elif lower[x][0] < lower[x+1][0]:\n",
    "        tup = (0,lower[x][0],lower[x][1])\n",
    "        direction_lower.append(tup)\n",
    "        tup = ()\n",
    "    else:\n",
    "        continue\n",
    "\n",
    "print(direction_lower)"
   ]
  },
  {
   "cell_type": "code",
   "execution_count": 30,
   "metadata": {},
   "outputs": [],
   "source": [
    "root_lower = []\n",
    "crest_lower = []\n",
    "for x in range(len(direction_lower)-4):\n",
    "    if direction_lower[x][0] == 1 and direction_lower[x+1][0] == 0 and direction_lower[x+2][0] == 0 and direction_lower[x+3][0] == 0 and direction_lower[x+4][0] == 0:\n",
    "        tup = (direction_lower[x][1],direction_lower[x][2])\n",
    "        root_lower.append(tup)\n",
    "        tup = ()\n",
    "    elif direction_lower[x][0] == 0 and direction_lower[x+1][0] == 1 and direction_lower[x+2][0] == 1:\n",
    "        tup = (direction_lower[x][1],direction_lower[x][2])\n",
    "        crest_lower.append(tup)\n",
    "        tup = ()\n"
   ]
  },
  {
   "cell_type": "code",
   "execution_count": 31,
   "metadata": {},
   "outputs": [
    {
     "name": "stdout",
     "output_type": "stream",
     "text": [
      "[(438, 298), (441, 249), (444, 203), (446, 153), (449, 105), (451, 55)]\n",
      "[(459, 279), (462, 231), (465, 182), (468, 123), (470, 84), (474, 29)]\n"
     ]
    }
   ],
   "source": [
    "print(root_lower)\n",
    "print(crest_lower)"
   ]
  },
  {
   "cell_type": "code",
   "execution_count": 32,
   "metadata": {},
   "outputs": [],
   "source": [
    "(Y1,X1) = root_lower[0]\n",
    "(Y2,X2) = root_lower[-1]\n",
    "lower_root_group = []\n",
    "for coord in lower:\n",
    "    (Y3,X3) = coord\n",
    "    pd = (((X2-X1)*(Y1-Y3)) - ((X1-X3)*(Y2-Y1)))/m.sqrt((X2-X1)**2 + (Y2-Y1)**2)\n",
    "    if pd<1 and pd>-1:\n",
    "        tup = (Y3,X3)\n",
    "        lower_root_group.append(tup)\n",
    "        tup = ()\n",
    "\n",
    "(Y1,X1) = crest_lower[0]\n",
    "(Y2,X2) = crest_lower[-1]\n",
    "lower_crest_group = []\n",
    "for coord in lower:\n",
    "    (Y3,X3) = coord\n",
    "    pd = (((X2-X1)*(Y1-Y3)) - ((X1-X3)*(Y2-Y1)))/m.sqrt((X2-X1)**2 + (Y2-Y1)**2)\n",
    "    if pd<1 and pd>-1:\n",
    "        tup = (Y3,X3)\n",
    "        lower_crest_group.append(tup)\n",
    "        tup = ()"
   ]
  },
  {
   "cell_type": "code",
   "execution_count": 33,
   "metadata": {},
   "outputs": [],
   "source": [
    "group2 = 1\n",
    "lower_root_clustered = []\n",
    "lower_root_clustered.append((lower_root_group[0][0],lower_root_group[0][1],group2))\n",
    "for i in range(len(lower_root_group)-1):\n",
    "    (Y1,X1) = lower_root_group[i]\n",
    "    (Y2,X2) = lower_root_group[i+1]\n",
    "    pd = m.sqrt((X2-X1)**2 + (Y2-Y1)**2)\n",
    "    if pd<7:\n",
    "        lower_root_clustered.append((Y2,X2,group2))\n",
    "    else:\n",
    "        group2 = group2+1\n",
    "        lower_root_clustered.append((Y2,X2,group2))"
   ]
  },
  {
   "cell_type": "code",
   "execution_count": 34,
   "metadata": {},
   "outputs": [
    {
     "data": {
      "text/plain": [
       "[1, 2, 3, 4, 5, 6, 7]"
      ]
     },
     "execution_count": 34,
     "metadata": {},
     "output_type": "execute_result"
    }
   ],
   "source": [
    "list10 = []\n",
    "for i in range(len(lower_root_clustered)):\n",
    "    list10.append(lower_root_clustered[i][2])\n",
    "list10 = list(set(list10))\n",
    "list10"
   ]
  },
  {
   "cell_type": "code",
   "execution_count": 35,
   "metadata": {},
   "outputs": [
    {
     "name": "stdout",
     "output_type": "stream",
     "text": [
      "[(438, 295, 1), (441, 249, 2), (443, 200, 3), (446, 150, 4), (448, 102, 5), (451, 50, 6), (453, 3, 7)]\n"
     ]
    }
   ],
   "source": [
    "list11 = []\n",
    "final_lower_roots = []\n",
    "for i in list10:\n",
    "    for coord in lower_root_clustered:\n",
    "        if coord[2] == i:\n",
    "            list11.append(coord)\n",
    "    final_lower_roots.append(list11[int(len(list11)/2)])\n",
    "    list11 = []\n",
    "print(final_lower_roots)   "
   ]
  },
  {
   "cell_type": "code",
   "execution_count": 36,
   "metadata": {},
   "outputs": [
    {
     "data": {
      "text/plain": [
       "-1"
      ]
     },
     "execution_count": 36,
     "metadata": {},
     "output_type": "execute_result"
    }
   ],
   "source": [
    "img12 = img4.copy()\n",
    "for coord in final_lower_roots:\n",
    "    cv2.circle(img12,(coord[1],coord[0]),4,200,1)\n",
    "cv2.imshow('final_lower_roots',img12)\n",
    "cv2.waitKey(0)"
   ]
  },
  {
   "cell_type": "code",
   "execution_count": 37,
   "metadata": {},
   "outputs": [],
   "source": [
    "group3 = 1\n",
    "lower_crest_clustered = []\n",
    "lower_crest_clustered.append((lower_crest_group[0][0],lower_crest_group[0][1],group3))\n",
    "for i in range(len(lower_crest_group)-1):\n",
    "    (Y1,X1) = lower_crest_group[i]\n",
    "    (Y2,X2) = lower_crest_group[i+1]\n",
    "    pd = m.sqrt((X2-X1)**2 + (Y2-Y1)**2)\n",
    "    if pd<7:\n",
    "        lower_crest_clustered.append((Y2,X2,group3))\n",
    "    else:\n",
    "        group3 = group3+1\n",
    "        lower_crest_clustered.append((Y2,X2,group3))"
   ]
  },
  {
   "cell_type": "code",
   "execution_count": 38,
   "metadata": {},
   "outputs": [
    {
     "data": {
      "text/plain": [
       "[1, 2, 3, 4, 5, 6]"
      ]
     },
     "execution_count": 38,
     "metadata": {},
     "output_type": "execute_result"
    }
   ],
   "source": [
    "list14 = []\n",
    "for i in range(len(lower_crest_clustered)):\n",
    "    list14.append(lower_crest_clustered[i][2])\n",
    "list14 = list(set(list14))\n",
    "list14"
   ]
  },
  {
   "cell_type": "code",
   "execution_count": 39,
   "metadata": {},
   "outputs": [
    {
     "name": "stdout",
     "output_type": "stream",
     "text": [
      "[(460, 272, 1), (463, 224, 2), (466, 175, 3), (469, 127, 4), (471, 78, 5), (475, 28, 6)]\n"
     ]
    }
   ],
   "source": [
    "list15 = []\n",
    "final_lower_crests = []\n",
    "for i in list14:\n",
    "    for coord in lower_crest_clustered:\n",
    "        if coord[2] == i:\n",
    "            list15.append(coord)\n",
    "    final_lower_crests.append(list15[int(len(list15)/2)])\n",
    "    list15 = []\n",
    "print(final_lower_crests)   "
   ]
  },
  {
   "cell_type": "code",
   "execution_count": 40,
   "metadata": {},
   "outputs": [
    {
     "data": {
      "text/plain": [
       "-1"
      ]
     },
     "execution_count": 40,
     "metadata": {},
     "output_type": "execute_result"
    }
   ],
   "source": [
    "img13 = img4.copy()\n",
    "for coord in final_lower_roots:\n",
    "    cv2.circle(img13,(coord[1],coord[0]),4,200,1)\n",
    "cv2.imshow('final_lower_crests',img13)\n",
    "cv2.waitKey(0)"
   ]
  },
  {
   "cell_type": "code",
   "execution_count": 41,
   "metadata": {},
   "outputs": [
    {
     "data": {
      "text/plain": [
       "-1"
      ]
     },
     "execution_count": 41,
     "metadata": {},
     "output_type": "execute_result"
    }
   ],
   "source": [
    "img10 = img9.copy()\n",
    "cv2.line(img10,(final_upper_crests[0][1],final_upper_crests[0][0]),(final_upper_crests[-1][1],final_upper_crests[-1][0]),200,1)\n",
    "cv2.line(img10,(final_upper_roots[0][1],final_upper_roots[0][0]),(final_upper_roots[-1][1],final_upper_roots[-1][0]),200,1)\n",
    "cv2.line(img10,(final_lower_roots[0][1],final_lower_roots[0][0]),(final_lower_roots[-1][1],final_lower_roots[-1][0]),200,1)\n",
    "cv2.line(img10,(final_lower_crests[0][1],final_lower_crests[0][0]),(final_lower_crests[-1][1],final_lower_crests[-1][0]),200,1)\n",
    "cv2.imshow('lines',img10)\n",
    "cv2.waitKey(0)"
   ]
  },
  {
   "cell_type": "code",
   "execution_count": 42,
   "metadata": {},
   "outputs": [
    {
     "name": "stdout",
     "output_type": "stream",
     "text": [
      "Mean pitch in pixel distance:48.61096505185927 pixels\n"
     ]
    }
   ],
   "source": [
    "pitch_list = []\n",
    "for i in range(len(final_upper_crests)-1):\n",
    "    X1 = final_upper_crests[i][0]\n",
    "    Y1 = final_upper_crests[i][1]\n",
    "    X2 = final_upper_crests[i+1][0]\n",
    "    Y2 = final_upper_crests[i+1][1]\n",
    "    dist = m.sqrt((X2-X1)**2 + (Y2-Y1)**2)\n",
    "    pitch_list.append(dist)\n",
    "for i in range(len(final_upper_roots)-1):\n",
    "    X1 = final_upper_roots[i][0]\n",
    "    Y1 = final_upper_roots[i][1]\n",
    "    X2 = final_upper_roots[i+1][0]\n",
    "    Y2 = final_upper_roots[i+1][1]\n",
    "    dist = m.sqrt((X2-X1)**2 + (Y2-Y1)**2)\n",
    "    pitch_list.append(dist)\n",
    "for i in range(len(final_lower_roots)-1):\n",
    "    X1 = final_lower_roots[i][0]\n",
    "    Y1 = final_lower_roots[i][1]\n",
    "    X2 = final_lower_roots[i+1][0]\n",
    "    Y2 = final_lower_roots[i+1][1]\n",
    "    dist = m.sqrt((X2-X1)**2 + (Y2-Y1)**2)\n",
    "    pitch_list.append(dist)\n",
    "for i in range(len(final_lower_crests)-1):\n",
    "    X1 = final_lower_crests[i][0]\n",
    "    Y1 = final_lower_crests[i][1]\n",
    "    X2 = final_lower_crests[i+1][0]\n",
    "    Y2 = final_lower_crests[i+1][1]\n",
    "    dist = m.sqrt((X2-X1)**2 + (Y2-Y1)**2)\n",
    "    pitch_list.append(dist)\n",
    "\n",
    "print(\"Mean pitch in pixel distance:\"+str(sum(pitch_list)/len(pitch_list))+\" pixels\")    "
   ]
  },
  {
   "cell_type": "code",
   "execution_count": 43,
   "metadata": {},
   "outputs": [
    {
     "data": {
      "text/plain": [
       "(397, 666, 3)"
      ]
     },
     "execution_count": 43,
     "metadata": {},
     "output_type": "execute_result"
    }
   ],
   "source": [
    "conversion = cv2.imread('mm_measure.jpg',1)\n",
    "cv2.imshow('crop',conversion)\n",
    "cv2.waitKey(0)\n",
    "conversion.shape"
   ]
  },
  {
   "cell_type": "code",
   "execution_count": 44,
   "metadata": {},
   "outputs": [
    {
     "name": "stdout",
     "output_type": "stream",
     "text": [
      "Pitch of the screw:1.3867993032812704 mm\n"
     ]
    }
   ],
   "source": [
    "#666 pixels = 19mm\n",
    "pixels_per_metric = 19/666\n",
    "mean_pitch = sum(pitch_list)/len(pitch_list)\n",
    "print(\"Pitch of the screw:\"+str(pixels_per_metric * mean_pitch)+\" mm\")"
   ]
  },
  {
   "cell_type": "code",
   "execution_count": 45,
   "metadata": {},
   "outputs": [
    {
     "name": "stdout",
     "output_type": "stream",
     "text": [
      "Depth of screw threads:0.601807594522255 mm\n"
     ]
    }
   ],
   "source": [
    "depth_list = []\n",
    "\n",
    "Y1,X1 = final_upper_roots[0][0] , final_upper_roots[0][1]\n",
    "Y2,X2 = final_upper_roots[-1][0] , final_upper_roots[-1][1]\n",
    "for coord in final_upper_crests:\n",
    "    Y3,X3 = coord[0],coord[1]\n",
    "    pd = (((X2-X1)*(Y1-Y3)) - ((X1-X3)*(Y2-Y1)))/m.sqrt((X2-X1)**2 + (Y2-Y1)**2)\n",
    "    depth_list.append(abs(pd))\n",
    "\n",
    "Y1,X1 = final_lower_crests[0][0] , final_lower_crests[0][1]\n",
    "Y2,X2 = final_lower_crests[-1][0] , final_lower_crests[-1][1]\n",
    "for coord in final_lower_roots:\n",
    "    Y3,X3 = coord[0],coord[1]\n",
    "    pd = (((X2-X1)*(Y1-Y3)) - ((X1-X3)*(Y2-Y1)))/m.sqrt((X2-X1)**2 + (Y2-Y1)**2)\n",
    "    depth_list.append(abs(pd))\n",
    "mean_depth = sum(depth_list)/len(depth_list)\n",
    "print(\"Depth of screw threads:\"+str(mean_depth*pixels_per_metric)+\" mm\")"
   ]
  },
  {
   "cell_type": "code",
   "execution_count": 46,
   "metadata": {},
   "outputs": [
    {
     "name": "stdout",
     "output_type": "stream",
     "text": [
      "Major Diameter of screw:7.197565695659473 mm\n"
     ]
    }
   ],
   "source": [
    "major_dia_list = []\n",
    "Y1,X1 = final_lower_crests[0][0] , final_lower_crests[0][1]\n",
    "Y2,X2 = final_lower_crests[-1][0] , final_lower_crests[-1][1]\n",
    "for coord in final_upper_crests:\n",
    "    Y3,X3 = coord[0],coord[1]\n",
    "    pd = (((X2-X1)*(Y1-Y3)) - ((X1-X3)*(Y2-Y1)))/m.sqrt((X2-X1)**2 + (Y2-Y1)**2)\n",
    "    major_dia_list.append(abs(pd))\n",
    "mean_major_dia = sum(major_dia_list)/len(major_dia_list)\n",
    "print(\"Major Diameter of screw:\"+str(mean_major_dia*pixels_per_metric)+\" mm\")"
   ]
  },
  {
   "cell_type": "code",
   "execution_count": 47,
   "metadata": {},
   "outputs": [
    {
     "name": "stdout",
     "output_type": "stream",
     "text": [
      "Minor Diameter of screw:5.979703148990537 mm\n"
     ]
    }
   ],
   "source": [
    "minor_dia_list = []\n",
    "Y1,X1 = final_lower_roots[0][0] , final_lower_roots[0][1]\n",
    "Y2,X2 = final_lower_roots[-1][0] , final_lower_roots[-1][1]\n",
    "for coord in final_upper_roots:\n",
    "    Y3,X3 = coord[0],coord[1]\n",
    "    pd = (((X2-X1)*(Y1-Y3)) - ((X1-X3)*(Y2-Y1)))/m.sqrt((X2-X1)**2 + (Y2-Y1)**2)\n",
    "    minor_dia_list.append(abs(pd))\n",
    "mean_minor_dia = sum(minor_dia_list)/len(minor_dia_list)\n",
    "print(\"Minor Diameter of screw:\"+str(mean_minor_dia*pixels_per_metric)+\" mm\")"
   ]
  },
  {
   "cell_type": "code",
   "execution_count": 49,
   "metadata": {},
   "outputs": [
    {
     "name": "stdout",
     "output_type": "stream",
     "text": [
      "[83.26398878588066, 81.86989764584403, 82.5685920288275, 83.53254107220849, 77.64464013491647]\n",
      "Thread angle of the thread:81.77593193353543°\n"
     ]
    }
   ],
   "source": [
    "included_angle_list = []\n",
    "for i in range(len(final_upper_roots)-1):\n",
    "    (y1,x1) = (final_upper_roots[i][0],final_upper_roots[i][1])\n",
    "    (y2,x2) = (final_upper_roots[i+1][0],final_upper_roots[i+1][1])\n",
    "    (y3,x3) = (final_upper_crests[i+1][0],final_upper_crests[i+1][1])\n",
    "    m1 = (y1-y3)/(x1-x3)\n",
    "    m2 = (y2-y3)/(x2-x3)\n",
    "    tan_theta = abs((m1-m2)/(1+m1*m2))\n",
    "    included_angle_list.append(tan_theta)\n",
    "included_angle_list = [m.atan(y)*180/m.pi for y in included_angle_list]\n",
    "print(included_angle_list)\n",
    "print(\"Thread angle of the thread:\"+str(sum(included_angle_list)/len(included_angle_list))+u\"\\u00b0\")"
   ]
  }
 ],
 "metadata": {
  "kernelspec": {
   "display_name": "Python 3",
   "language": "python",
   "name": "python3"
  },
  "language_info": {
   "codemirror_mode": {
    "name": "ipython",
    "version": 3
   },
   "file_extension": ".py",
   "mimetype": "text/x-python",
   "name": "python",
   "nbconvert_exporter": "python",
   "pygments_lexer": "ipython3",
   "version": "3.7.3"
  }
 },
 "nbformat": 4,
 "nbformat_minor": 2
}
